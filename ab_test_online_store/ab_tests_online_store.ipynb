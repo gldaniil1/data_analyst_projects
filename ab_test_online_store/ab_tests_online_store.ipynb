{
 "cells": [
  {
   "cell_type": "markdown",
   "id": "6f9f9a00",
   "metadata": {},
   "source": [
    "# A/B тесты в крупном интернет-магазине"
   ]
  },
  {
   "cell_type": "markdown",
   "id": "95cf7de4",
   "metadata": {},
   "source": [
    "Я — аналитик крупного интернет-магазина. Вместе с отделом маркетинга мы подготовили список гипотез для увеличения выручки.\n",
    "\n",
    "**Цель исследования:** \n",
    "1. Приоритизировать гипотезы по увеличению выручки интернет-магазина.\n",
    "2. Запустить A/B-тест и проанализировать результаты.  \n",
    "**Ход исследования:**  \n",
    "В моем распоряжении три датасета: файл c 9 гипотезами по увеличению выручки интернет-магазина с указанными параметрами Reach, Impact, Confidence, Effort; данные о заказах и данные о визитах.  \n",
    "Исследование условно поделено на 2 части. В первой части которого я загружу файл с гипотезами применю фреймворки ICE и RICE для приоритизации гипотез. Во второй части я проанализирую результаты A/B-теста, мой анализ будет состоять из 14 этапов:\n",
    "1. Предобработка данных\n",
    "2. Cбор кумулятивных данных\n",
    "3. Построение графика кумулятивной выручки по группам\n",
    "4. Построение графика кумулятивного среднего чека по группам\n",
    "5. Построение графика относительного изменения кумулятивного среднего чека группы B к группе A\n",
    "6. Построение графика кумулятивного среднего количества заказов на посетителя по группам\n",
    "7. Построение графика относительного изменения кумулятивного среднего количества заказов на посетителя группы B к группе A\n",
    "8. Построение точечного графика количества заказов по пользователям\n",
    "9. Расчет 95-ого и 99-ого перцентилей количества заказов на пользователя\n",
    "10. Построение точечного графика стоимостей заказов\n",
    "11. Расчет 95-ого и 99-ого перцентилей стоимости заказов\n",
    "12. Расчет статистической значимости различий в среднем количестве заказов на посетителя между группами по «сырым» данным\n",
    "13. Расчет статистической значимости различий в среднем чеке заказа между группами по «сырым» данным\n",
    "14. Расчет статистической значимости различий в среднем количестве заказов на посетителя между группами по «очищенным» данным\n",
    "15. Расчет статистической значимости различий в среднем чеке заказа между группами по «очищенным» данным\n",
    "16. Обоснованное решение по результатам теста"
   ]
  },
  {
   "cell_type": "code",
   "execution_count": 1,
   "id": "f528ac27",
   "metadata": {},
   "outputs": [],
   "source": [
    "# Импорт необходимых библиотек\n",
    "import pandas as pd\n",
    "import numpy as np\n",
    "from scipy import stats as st\n",
    "import datetime as dt\n",
    "import matplotlib.pyplot as plt"
   ]
  },
  {
   "cell_type": "markdown",
   "id": "9695bb67",
   "metadata": {},
   "source": [
    "## Приоритизация гипотез"
   ]
  },
  {
   "cell_type": "code",
   "execution_count": 2,
   "id": "a9a7b663",
   "metadata": {},
   "outputs": [
    {
     "data": {
      "text/html": [
       "<div>\n",
       "<style scoped>\n",
       "    .dataframe tbody tr th:only-of-type {\n",
       "        vertical-align: middle;\n",
       "    }\n",
       "\n",
       "    .dataframe tbody tr th {\n",
       "        vertical-align: top;\n",
       "    }\n",
       "\n",
       "    .dataframe thead th {\n",
       "        text-align: right;\n",
       "    }\n",
       "</style>\n",
       "<table border=\"1\" class=\"dataframe\">\n",
       "  <thead>\n",
       "    <tr style=\"text-align: right;\">\n",
       "      <th></th>\n",
       "      <th>Hypothesis</th>\n",
       "      <th>Reach</th>\n",
       "      <th>Impact</th>\n",
       "      <th>Confidence</th>\n",
       "      <th>Efforts</th>\n",
       "    </tr>\n",
       "  </thead>\n",
       "  <tbody>\n",
       "    <tr>\n",
       "      <th>0</th>\n",
       "      <td>Добавить два новых канала привлечения трафика, что позволит привлекать на 30% больше пользователей</td>\n",
       "      <td>3</td>\n",
       "      <td>10</td>\n",
       "      <td>8</td>\n",
       "      <td>6</td>\n",
       "    </tr>\n",
       "    <tr>\n",
       "      <th>1</th>\n",
       "      <td>Запустить собственную службу доставки, что сократит срок доставки заказов</td>\n",
       "      <td>2</td>\n",
       "      <td>5</td>\n",
       "      <td>4</td>\n",
       "      <td>10</td>\n",
       "    </tr>\n",
       "    <tr>\n",
       "      <th>2</th>\n",
       "      <td>Добавить блоки рекомендаций товаров на сайт интернет магазина, чтобы повысить конверсию и средний чек заказа</td>\n",
       "      <td>8</td>\n",
       "      <td>3</td>\n",
       "      <td>7</td>\n",
       "      <td>3</td>\n",
       "    </tr>\n",
       "    <tr>\n",
       "      <th>3</th>\n",
       "      <td>Изменить структура категорий, что увеличит конверсию, т.к. пользователи быстрее найдут нужный товар</td>\n",
       "      <td>8</td>\n",
       "      <td>3</td>\n",
       "      <td>3</td>\n",
       "      <td>8</td>\n",
       "    </tr>\n",
       "    <tr>\n",
       "      <th>4</th>\n",
       "      <td>Изменить цвет фона главной страницы, чтобы увеличить вовлеченность пользователей</td>\n",
       "      <td>3</td>\n",
       "      <td>1</td>\n",
       "      <td>1</td>\n",
       "      <td>1</td>\n",
       "    </tr>\n",
       "    <tr>\n",
       "      <th>5</th>\n",
       "      <td>Добавить страницу отзывов клиентов о магазине, что позволит увеличить количество заказов</td>\n",
       "      <td>3</td>\n",
       "      <td>2</td>\n",
       "      <td>2</td>\n",
       "      <td>3</td>\n",
       "    </tr>\n",
       "    <tr>\n",
       "      <th>6</th>\n",
       "      <td>Показать на главной странице баннеры с актуальными акциями и распродажами, чтобы увеличить конверсию</td>\n",
       "      <td>5</td>\n",
       "      <td>3</td>\n",
       "      <td>8</td>\n",
       "      <td>3</td>\n",
       "    </tr>\n",
       "    <tr>\n",
       "      <th>7</th>\n",
       "      <td>Добавить форму подписки на все основные страницы, чтобы собрать базу клиентов для email-рассылок</td>\n",
       "      <td>10</td>\n",
       "      <td>7</td>\n",
       "      <td>8</td>\n",
       "      <td>5</td>\n",
       "    </tr>\n",
       "    <tr>\n",
       "      <th>8</th>\n",
       "      <td>Запустить акцию, дающую скидку на товар в день рождения</td>\n",
       "      <td>1</td>\n",
       "      <td>9</td>\n",
       "      <td>9</td>\n",
       "      <td>5</td>\n",
       "    </tr>\n",
       "  </tbody>\n",
       "</table>\n",
       "</div>"
      ],
      "text/plain": [
       "                                                                                                     Hypothesis  \\\n",
       "0            Добавить два новых канала привлечения трафика, что позволит привлекать на 30% больше пользователей   \n",
       "1                                     Запустить собственную службу доставки, что сократит срок доставки заказов   \n",
       "2  Добавить блоки рекомендаций товаров на сайт интернет магазина, чтобы повысить конверсию и средний чек заказа   \n",
       "3           Изменить структура категорий, что увеличит конверсию, т.к. пользователи быстрее найдут нужный товар   \n",
       "4                              Изменить цвет фона главной страницы, чтобы увеличить вовлеченность пользователей   \n",
       "5                      Добавить страницу отзывов клиентов о магазине, что позволит увеличить количество заказов   \n",
       "6          Показать на главной странице баннеры с актуальными акциями и распродажами, чтобы увеличить конверсию   \n",
       "7              Добавить форму подписки на все основные страницы, чтобы собрать базу клиентов для email-рассылок   \n",
       "8                                                       Запустить акцию, дающую скидку на товар в день рождения   \n",
       "\n",
       "   Reach  Impact  Confidence  Efforts  \n",
       "0      3      10           8        6  \n",
       "1      2       5           4       10  \n",
       "2      8       3           7        3  \n",
       "3      8       3           3        8  \n",
       "4      3       1           1        1  \n",
       "5      3       2           2        3  \n",
       "6      5       3           8        3  \n",
       "7     10       7           8        5  \n",
       "8      1       9           9        5  "
      ]
     },
     "execution_count": 2,
     "metadata": {},
     "output_type": "execute_result"
    }
   ],
   "source": [
    "# Прочитаем датасет c гипотезами и выведем его  \n",
    "hypothesis = pd.read_csv('C:/Users/user/anaconda3/datasets/hypothesis.csv') # располжение на моем ПК\n",
    "    \n",
    "pd.options.display.max_colwidth = 130\n",
    "hypothesis"
   ]
  },
  {
   "cell_type": "code",
   "execution_count": 3,
   "id": "6136c8d7",
   "metadata": {},
   "outputs": [],
   "source": [
    "# Приведу названия столбцов к нижнему регистру\n",
    "hypothesis.columns = hypothesis.columns.str.lower()"
   ]
  },
  {
   "cell_type": "markdown",
   "id": "cd7a3be6",
   "metadata": {},
   "source": [
    "В датасете `hypothesis` 9 гипотез по увеличению выручки интернет-магазина с указанными параметрами Reach, Impact, Confidence, Effort.  \n",
    "\n",
    "`Reach` — скольких пользователей затронет изменение, которое мы хотим внести;  \n",
    "`Impact` — насколько сильно изменение повлияет на пользователей, их опыт и удовлетворение от продукта;  \n",
    "`Confidence` — насколько мы уверены, что это изменение повлияет на пользователей именно так;  \n",
    "`Efforts` — сколько стоит протестировать эту гипотезу. "
   ]
  },
  {
   "cell_type": "markdown",
   "id": "02a49fe8",
   "metadata": {},
   "source": [
    "#### Применим фреймворк ICE для приоритизации гипотез"
   ]
  },
  {
   "cell_type": "code",
   "execution_count": 4,
   "id": "60466ac9",
   "metadata": {},
   "outputs": [
    {
     "data": {
      "text/html": [
       "<div>\n",
       "<style scoped>\n",
       "    .dataframe tbody tr th:only-of-type {\n",
       "        vertical-align: middle;\n",
       "    }\n",
       "\n",
       "    .dataframe tbody tr th {\n",
       "        vertical-align: top;\n",
       "    }\n",
       "\n",
       "    .dataframe thead th {\n",
       "        text-align: right;\n",
       "    }\n",
       "</style>\n",
       "<table border=\"1\" class=\"dataframe\">\n",
       "  <thead>\n",
       "    <tr style=\"text-align: right;\">\n",
       "      <th></th>\n",
       "      <th>hypothesis</th>\n",
       "      <th>reach</th>\n",
       "      <th>impact</th>\n",
       "      <th>confidence</th>\n",
       "      <th>efforts</th>\n",
       "      <th>hypothesis_number</th>\n",
       "    </tr>\n",
       "  </thead>\n",
       "  <tbody>\n",
       "    <tr>\n",
       "      <th>0</th>\n",
       "      <td>Добавить два новых канала привлечения трафика, что позволит привлекать на 30% больше пользователей</td>\n",
       "      <td>3</td>\n",
       "      <td>10</td>\n",
       "      <td>8</td>\n",
       "      <td>6</td>\n",
       "      <td>hypothesis_1</td>\n",
       "    </tr>\n",
       "    <tr>\n",
       "      <th>1</th>\n",
       "      <td>Запустить собственную службу доставки, что сократит срок доставки заказов</td>\n",
       "      <td>2</td>\n",
       "      <td>5</td>\n",
       "      <td>4</td>\n",
       "      <td>10</td>\n",
       "      <td>hypothesis_2</td>\n",
       "    </tr>\n",
       "    <tr>\n",
       "      <th>2</th>\n",
       "      <td>Добавить блоки рекомендаций товаров на сайт интернет магазина, чтобы повысить конверсию и средний чек заказа</td>\n",
       "      <td>8</td>\n",
       "      <td>3</td>\n",
       "      <td>7</td>\n",
       "      <td>3</td>\n",
       "      <td>hypothesis_3</td>\n",
       "    </tr>\n",
       "    <tr>\n",
       "      <th>3</th>\n",
       "      <td>Изменить структура категорий, что увеличит конверсию, т.к. пользователи быстрее найдут нужный товар</td>\n",
       "      <td>8</td>\n",
       "      <td>3</td>\n",
       "      <td>3</td>\n",
       "      <td>8</td>\n",
       "      <td>hypothesis_4</td>\n",
       "    </tr>\n",
       "    <tr>\n",
       "      <th>4</th>\n",
       "      <td>Изменить цвет фона главной страницы, чтобы увеличить вовлеченность пользователей</td>\n",
       "      <td>3</td>\n",
       "      <td>1</td>\n",
       "      <td>1</td>\n",
       "      <td>1</td>\n",
       "      <td>hypothesis_5</td>\n",
       "    </tr>\n",
       "    <tr>\n",
       "      <th>5</th>\n",
       "      <td>Добавить страницу отзывов клиентов о магазине, что позволит увеличить количество заказов</td>\n",
       "      <td>3</td>\n",
       "      <td>2</td>\n",
       "      <td>2</td>\n",
       "      <td>3</td>\n",
       "      <td>hypothesis_6</td>\n",
       "    </tr>\n",
       "    <tr>\n",
       "      <th>6</th>\n",
       "      <td>Показать на главной странице баннеры с актуальными акциями и распродажами, чтобы увеличить конверсию</td>\n",
       "      <td>5</td>\n",
       "      <td>3</td>\n",
       "      <td>8</td>\n",
       "      <td>3</td>\n",
       "      <td>hypothesis_7</td>\n",
       "    </tr>\n",
       "    <tr>\n",
       "      <th>7</th>\n",
       "      <td>Добавить форму подписки на все основные страницы, чтобы собрать базу клиентов для email-рассылок</td>\n",
       "      <td>10</td>\n",
       "      <td>7</td>\n",
       "      <td>8</td>\n",
       "      <td>5</td>\n",
       "      <td>hypothesis_8</td>\n",
       "    </tr>\n",
       "    <tr>\n",
       "      <th>8</th>\n",
       "      <td>Запустить акцию, дающую скидку на товар в день рождения</td>\n",
       "      <td>1</td>\n",
       "      <td>9</td>\n",
       "      <td>9</td>\n",
       "      <td>5</td>\n",
       "      <td>hypothesis_9</td>\n",
       "    </tr>\n",
       "  </tbody>\n",
       "</table>\n",
       "</div>"
      ],
      "text/plain": [
       "                                                                                                     hypothesis  \\\n",
       "0            Добавить два новых канала привлечения трафика, что позволит привлекать на 30% больше пользователей   \n",
       "1                                     Запустить собственную службу доставки, что сократит срок доставки заказов   \n",
       "2  Добавить блоки рекомендаций товаров на сайт интернет магазина, чтобы повысить конверсию и средний чек заказа   \n",
       "3           Изменить структура категорий, что увеличит конверсию, т.к. пользователи быстрее найдут нужный товар   \n",
       "4                              Изменить цвет фона главной страницы, чтобы увеличить вовлеченность пользователей   \n",
       "5                      Добавить страницу отзывов клиентов о магазине, что позволит увеличить количество заказов   \n",
       "6          Показать на главной странице баннеры с актуальными акциями и распродажами, чтобы увеличить конверсию   \n",
       "7              Добавить форму подписки на все основные страницы, чтобы собрать базу клиентов для email-рассылок   \n",
       "8                                                       Запустить акцию, дающую скидку на товар в день рождения   \n",
       "\n",
       "   reach  impact  confidence  efforts hypothesis_number  \n",
       "0      3      10           8        6      hypothesis_1  \n",
       "1      2       5           4       10      hypothesis_2  \n",
       "2      8       3           7        3      hypothesis_3  \n",
       "3      8       3           3        8      hypothesis_4  \n",
       "4      3       1           1        1      hypothesis_5  \n",
       "5      3       2           2        3      hypothesis_6  \n",
       "6      5       3           8        3      hypothesis_7  \n",
       "7     10       7           8        5      hypothesis_8  \n",
       "8      1       9           9        5      hypothesis_9  "
      ]
     },
     "execution_count": 4,
     "metadata": {},
     "output_type": "execute_result"
    }
   ],
   "source": [
    "# Создадим столбец с номерами гипотез, так как по названию работать с ними неудобно\n",
    "hypothesis_number = []\n",
    "for x in range(1, len(hypothesis)+1):\n",
    "    hypothesis_number.append(f'hypothesis_{x}')\n",
    "hypothesis['hypothesis_number'] = pd.Series(hypothesis_number)\n",
    "hypothesis"
   ]
  },
  {
   "cell_type": "code",
   "execution_count": 5,
   "id": "9a3e7db7",
   "metadata": {
    "scrolled": true
   },
   "outputs": [
    {
     "data": {
      "text/html": [
       "<div>\n",
       "<style scoped>\n",
       "    .dataframe tbody tr th:only-of-type {\n",
       "        vertical-align: middle;\n",
       "    }\n",
       "\n",
       "    .dataframe tbody tr th {\n",
       "        vertical-align: top;\n",
       "    }\n",
       "\n",
       "    .dataframe thead th {\n",
       "        text-align: right;\n",
       "    }\n",
       "</style>\n",
       "<table border=\"1\" class=\"dataframe\">\n",
       "  <thead>\n",
       "    <tr style=\"text-align: right;\">\n",
       "      <th></th>\n",
       "      <th>hypothesis_number</th>\n",
       "      <th>ICE</th>\n",
       "    </tr>\n",
       "  </thead>\n",
       "  <tbody>\n",
       "    <tr>\n",
       "      <th>0</th>\n",
       "      <td>hypothesis_9</td>\n",
       "      <td>16.2</td>\n",
       "    </tr>\n",
       "    <tr>\n",
       "      <th>1</th>\n",
       "      <td>hypothesis_1</td>\n",
       "      <td>13.3</td>\n",
       "    </tr>\n",
       "    <tr>\n",
       "      <th>2</th>\n",
       "      <td>hypothesis_8</td>\n",
       "      <td>11.2</td>\n",
       "    </tr>\n",
       "    <tr>\n",
       "      <th>3</th>\n",
       "      <td>hypothesis_7</td>\n",
       "      <td>8.0</td>\n",
       "    </tr>\n",
       "    <tr>\n",
       "      <th>4</th>\n",
       "      <td>hypothesis_3</td>\n",
       "      <td>7.0</td>\n",
       "    </tr>\n",
       "    <tr>\n",
       "      <th>5</th>\n",
       "      <td>hypothesis_2</td>\n",
       "      <td>2.0</td>\n",
       "    </tr>\n",
       "    <tr>\n",
       "      <th>6</th>\n",
       "      <td>hypothesis_6</td>\n",
       "      <td>1.3</td>\n",
       "    </tr>\n",
       "    <tr>\n",
       "      <th>7</th>\n",
       "      <td>hypothesis_4</td>\n",
       "      <td>1.1</td>\n",
       "    </tr>\n",
       "    <tr>\n",
       "      <th>8</th>\n",
       "      <td>hypothesis_5</td>\n",
       "      <td>1.0</td>\n",
       "    </tr>\n",
       "  </tbody>\n",
       "</table>\n",
       "</div>"
      ],
      "text/plain": [
       "  hypothesis_number   ICE\n",
       "0      hypothesis_9  16.2\n",
       "1      hypothesis_1  13.3\n",
       "2      hypothesis_8  11.2\n",
       "3      hypothesis_7   8.0\n",
       "4      hypothesis_3   7.0\n",
       "5      hypothesis_2   2.0\n",
       "6      hypothesis_6   1.3\n",
       "7      hypothesis_4   1.1\n",
       "8      hypothesis_5   1.0"
      ]
     },
     "execution_count": 5,
     "metadata": {},
     "output_type": "execute_result"
    }
   ],
   "source": [
    "hypothesis['ICE'] = (hypothesis['impact'] * hypothesis['confidence'] / hypothesis['efforts']).round(1)\n",
    "hypothesis[['hypothesis_number', 'ICE']].sort_values(by='ICE', ascending=False, ignore_index=True)"
   ]
  },
  {
   "cell_type": "markdown",
   "id": "315ed81a",
   "metadata": {},
   "source": [
    "**Вывод:** Наиболее перспективные гипотезы по `ICE` №9, №1 и №8.   \n",
    "Самая перспективная гипотеза по `ICE` звучит: \"Запустить акцию, дающую скидку на товар в день рождения\"."
   ]
  },
  {
   "cell_type": "markdown",
   "id": "b7fa9ed9",
   "metadata": {},
   "source": [
    "#### Применим фреймворк RICE для приоритизации гипотез."
   ]
  },
  {
   "cell_type": "code",
   "execution_count": 6,
   "id": "77796028",
   "metadata": {
    "scrolled": true
   },
   "outputs": [
    {
     "data": {
      "text/html": [
       "<div>\n",
       "<style scoped>\n",
       "    .dataframe tbody tr th:only-of-type {\n",
       "        vertical-align: middle;\n",
       "    }\n",
       "\n",
       "    .dataframe tbody tr th {\n",
       "        vertical-align: top;\n",
       "    }\n",
       "\n",
       "    .dataframe thead th {\n",
       "        text-align: right;\n",
       "    }\n",
       "</style>\n",
       "<table border=\"1\" class=\"dataframe\">\n",
       "  <thead>\n",
       "    <tr style=\"text-align: right;\">\n",
       "      <th></th>\n",
       "      <th>hypothesis_number</th>\n",
       "      <th>RICE</th>\n",
       "    </tr>\n",
       "  </thead>\n",
       "  <tbody>\n",
       "    <tr>\n",
       "      <th>0</th>\n",
       "      <td>hypothesis_8</td>\n",
       "      <td>112.0</td>\n",
       "    </tr>\n",
       "    <tr>\n",
       "      <th>1</th>\n",
       "      <td>hypothesis_3</td>\n",
       "      <td>56.0</td>\n",
       "    </tr>\n",
       "    <tr>\n",
       "      <th>2</th>\n",
       "      <td>hypothesis_1</td>\n",
       "      <td>40.0</td>\n",
       "    </tr>\n",
       "    <tr>\n",
       "      <th>3</th>\n",
       "      <td>hypothesis_7</td>\n",
       "      <td>40.0</td>\n",
       "    </tr>\n",
       "    <tr>\n",
       "      <th>4</th>\n",
       "      <td>hypothesis_9</td>\n",
       "      <td>16.2</td>\n",
       "    </tr>\n",
       "    <tr>\n",
       "      <th>5</th>\n",
       "      <td>hypothesis_4</td>\n",
       "      <td>9.0</td>\n",
       "    </tr>\n",
       "    <tr>\n",
       "      <th>6</th>\n",
       "      <td>hypothesis_2</td>\n",
       "      <td>4.0</td>\n",
       "    </tr>\n",
       "    <tr>\n",
       "      <th>7</th>\n",
       "      <td>hypothesis_6</td>\n",
       "      <td>4.0</td>\n",
       "    </tr>\n",
       "    <tr>\n",
       "      <th>8</th>\n",
       "      <td>hypothesis_5</td>\n",
       "      <td>3.0</td>\n",
       "    </tr>\n",
       "  </tbody>\n",
       "</table>\n",
       "</div>"
      ],
      "text/plain": [
       "  hypothesis_number   RICE\n",
       "0      hypothesis_8  112.0\n",
       "1      hypothesis_3   56.0\n",
       "2      hypothesis_1   40.0\n",
       "3      hypothesis_7   40.0\n",
       "4      hypothesis_9   16.2\n",
       "5      hypothesis_4    9.0\n",
       "6      hypothesis_2    4.0\n",
       "7      hypothesis_6    4.0\n",
       "8      hypothesis_5    3.0"
      ]
     },
     "execution_count": 6,
     "metadata": {},
     "output_type": "execute_result"
    }
   ],
   "source": [
    "hypothesis['RICE'] = (hypothesis['reach'] * hypothesis['impact'] * hypothesis['confidence'] / hypothesis['efforts']).round(1)\n",
    "hypothesis[['hypothesis_number', 'RICE']].sort_values(by='RICE', ascending=False, ignore_index=True)"
   ]
  },
  {
   "cell_type": "markdown",
   "id": "d080f0ac",
   "metadata": {},
   "source": [
    "**Вывод:** Наиболее перспективные гипотезы по RICE №8, №3, №1 и №7. Приоритизация гипотез при применении `RICE` вместо `ICE` значительно именилась, это можно объяснить применением критерия `Reach`. Кроме силы гипотез, в `RICE` мы учитываем как много пользователей она затронет.  \n",
    "\n",
    "Именно гипотезы №8 и №3 затрагивают больше всего пользователей:  \n",
    "- Добавить форму подписки на все основные страницы, чтобы собрать базу клиентов для email-рассылок.  \n",
    "- Добавить блоки рекомендаций товаров на сайт интернет магазина, чтобы повысить конверсию и средний чек заказа.  \n",
    "\n",
    "Для проведения A/B-теста стоит выбрать гипотезу №8, именно она является наиболее перспективной, затронет наибольшее число пользователей и будет иметь сильное влияние на пользователей, их опыт и удовлетворение от продукта:  \n",
    "\n",
    "***Добавить форму подписки на все основные страницы, чтобы собрать базу клиентов для email-рассылок.***\n",
    "\n"
   ]
  },
  {
   "cell_type": "markdown",
   "id": "5868036a",
   "metadata": {},
   "source": [
    "## Анализ A/B-теста"
   ]
  },
  {
   "cell_type": "markdown",
   "id": "4629480c",
   "metadata": {},
   "source": [
    "#### Предобработка данных"
   ]
  },
  {
   "cell_type": "markdown",
   "id": "9978e0c9",
   "metadata": {},
   "source": [
    "Мы провели A/B-тест и получили результаты, которые описаны в файлах `/datasets/orders.csv` и `/datasets/visitors.csv`."
   ]
  },
  {
   "cell_type": "code",
   "execution_count": 7,
   "id": "2bce6b49",
   "metadata": {},
   "outputs": [
    {
     "data": {
      "text/html": [
       "<div>\n",
       "<style scoped>\n",
       "    .dataframe tbody tr th:only-of-type {\n",
       "        vertical-align: middle;\n",
       "    }\n",
       "\n",
       "    .dataframe tbody tr th {\n",
       "        vertical-align: top;\n",
       "    }\n",
       "\n",
       "    .dataframe thead th {\n",
       "        text-align: right;\n",
       "    }\n",
       "</style>\n",
       "<table border=\"1\" class=\"dataframe\">\n",
       "  <thead>\n",
       "    <tr style=\"text-align: right;\">\n",
       "      <th></th>\n",
       "      <th>transactionId</th>\n",
       "      <th>visitorId</th>\n",
       "      <th>date</th>\n",
       "      <th>revenue</th>\n",
       "      <th>group</th>\n",
       "    </tr>\n",
       "  </thead>\n",
       "  <tbody>\n",
       "    <tr>\n",
       "      <th>0</th>\n",
       "      <td>3667963787</td>\n",
       "      <td>3312258926</td>\n",
       "      <td>2019-08-15</td>\n",
       "      <td>1650</td>\n",
       "      <td>B</td>\n",
       "    </tr>\n",
       "    <tr>\n",
       "      <th>1</th>\n",
       "      <td>2804400009</td>\n",
       "      <td>3642806036</td>\n",
       "      <td>2019-08-15</td>\n",
       "      <td>730</td>\n",
       "      <td>B</td>\n",
       "    </tr>\n",
       "    <tr>\n",
       "      <th>2</th>\n",
       "      <td>2961555356</td>\n",
       "      <td>4069496402</td>\n",
       "      <td>2019-08-15</td>\n",
       "      <td>400</td>\n",
       "      <td>A</td>\n",
       "    </tr>\n",
       "    <tr>\n",
       "      <th>3</th>\n",
       "      <td>3797467345</td>\n",
       "      <td>1196621759</td>\n",
       "      <td>2019-08-15</td>\n",
       "      <td>9759</td>\n",
       "      <td>B</td>\n",
       "    </tr>\n",
       "    <tr>\n",
       "      <th>4</th>\n",
       "      <td>2282983706</td>\n",
       "      <td>2322279887</td>\n",
       "      <td>2019-08-15</td>\n",
       "      <td>2308</td>\n",
       "      <td>B</td>\n",
       "    </tr>\n",
       "  </tbody>\n",
       "</table>\n",
       "</div>"
      ],
      "text/plain": [
       "   transactionId   visitorId        date  revenue group\n",
       "0     3667963787  3312258926  2019-08-15     1650     B\n",
       "1     2804400009  3642806036  2019-08-15      730     B\n",
       "2     2961555356  4069496402  2019-08-15      400     A\n",
       "3     3797467345  1196621759  2019-08-15     9759     B\n",
       "4     2282983706  2322279887  2019-08-15     2308     B"
      ]
     },
     "execution_count": 7,
     "metadata": {},
     "output_type": "execute_result"
    }
   ],
   "source": [
    "# Прочитаем датасет c заказами и выведем первые 5 строк\n",
    "orders = pd.read_csv('C:/Users/user/anaconda3/datasets/orders.csv') # располжение на моем ПК\n",
    "\n",
    "orders.head()"
   ]
  },
  {
   "cell_type": "code",
   "execution_count": 8,
   "id": "738e45d1",
   "metadata": {},
   "outputs": [
    {
     "data": {
      "text/html": [
       "<div>\n",
       "<style scoped>\n",
       "    .dataframe tbody tr th:only-of-type {\n",
       "        vertical-align: middle;\n",
       "    }\n",
       "\n",
       "    .dataframe tbody tr th {\n",
       "        vertical-align: top;\n",
       "    }\n",
       "\n",
       "    .dataframe thead th {\n",
       "        text-align: right;\n",
       "    }\n",
       "</style>\n",
       "<table border=\"1\" class=\"dataframe\">\n",
       "  <thead>\n",
       "    <tr style=\"text-align: right;\">\n",
       "      <th></th>\n",
       "      <th>date</th>\n",
       "      <th>group</th>\n",
       "      <th>visitors</th>\n",
       "    </tr>\n",
       "  </thead>\n",
       "  <tbody>\n",
       "    <tr>\n",
       "      <th>0</th>\n",
       "      <td>2019-08-01</td>\n",
       "      <td>A</td>\n",
       "      <td>719</td>\n",
       "    </tr>\n",
       "    <tr>\n",
       "      <th>1</th>\n",
       "      <td>2019-08-02</td>\n",
       "      <td>A</td>\n",
       "      <td>619</td>\n",
       "    </tr>\n",
       "    <tr>\n",
       "      <th>2</th>\n",
       "      <td>2019-08-03</td>\n",
       "      <td>A</td>\n",
       "      <td>507</td>\n",
       "    </tr>\n",
       "    <tr>\n",
       "      <th>3</th>\n",
       "      <td>2019-08-04</td>\n",
       "      <td>A</td>\n",
       "      <td>717</td>\n",
       "    </tr>\n",
       "    <tr>\n",
       "      <th>4</th>\n",
       "      <td>2019-08-05</td>\n",
       "      <td>A</td>\n",
       "      <td>756</td>\n",
       "    </tr>\n",
       "  </tbody>\n",
       "</table>\n",
       "</div>"
      ],
      "text/plain": [
       "         date group  visitors\n",
       "0  2019-08-01     A       719\n",
       "1  2019-08-02     A       619\n",
       "2  2019-08-03     A       507\n",
       "3  2019-08-04     A       717\n",
       "4  2019-08-05     A       756"
      ]
     },
     "execution_count": 8,
     "metadata": {},
     "output_type": "execute_result"
    }
   ],
   "source": [
    "# Прочитаем датасет c количеством пользователей и выведем первые 5 строк\n",
    "visitors = pd.read_csv('C:/Users/user/anaconda3/datasets/visitors.csv') # располжение на моем ПК\n",
    "\n",
    "visitors.head()"
   ]
  },
  {
   "cell_type": "code",
   "execution_count": 9,
   "id": "40b98572",
   "metadata": {},
   "outputs": [
    {
     "name": "stdout",
     "output_type": "stream",
     "text": [
      "<class 'pandas.core.frame.DataFrame'>\n",
      "RangeIndex: 1197 entries, 0 to 1196\n",
      "Data columns (total 5 columns):\n",
      " #   Column         Non-Null Count  Dtype \n",
      "---  ------         --------------  ----- \n",
      " 0   transactionId  1197 non-null   int64 \n",
      " 1   visitorId      1197 non-null   int64 \n",
      " 2   date           1197 non-null   object\n",
      " 3   revenue        1197 non-null   int64 \n",
      " 4   group          1197 non-null   object\n",
      "dtypes: int64(3), object(2)\n",
      "memory usage: 46.9+ KB\n"
     ]
    }
   ],
   "source": [
    "orders.info()"
   ]
  },
  {
   "cell_type": "code",
   "execution_count": 10,
   "id": "a5a20f81",
   "metadata": {
    "scrolled": true
   },
   "outputs": [
    {
     "name": "stdout",
     "output_type": "stream",
     "text": [
      "<class 'pandas.core.frame.DataFrame'>\n",
      "RangeIndex: 62 entries, 0 to 61\n",
      "Data columns (total 3 columns):\n",
      " #   Column    Non-Null Count  Dtype \n",
      "---  ------    --------------  ----- \n",
      " 0   date      62 non-null     object\n",
      " 1   group     62 non-null     object\n",
      " 2   visitors  62 non-null     int64 \n",
      "dtypes: int64(1), object(2)\n",
      "memory usage: 1.6+ KB\n"
     ]
    }
   ],
   "source": [
    "visitors.info()"
   ]
  },
  {
   "cell_type": "markdown",
   "id": "10f5abc7",
   "metadata": {},
   "source": [
    "Необходимо привести столбцы с датами к типу `datetime`."
   ]
  },
  {
   "cell_type": "code",
   "execution_count": 11,
   "id": "ed0bae08",
   "metadata": {
    "scrolled": true
   },
   "outputs": [],
   "source": [
    "orders['date'] = orders['date'].apply(lambda x: dt.datetime.strptime(x, '%Y-%m-%d'))\n",
    "visitors['date'] = visitors['date'].apply(lambda x: dt.datetime.strptime(x, '%Y-%m-%d'))"
   ]
  },
  {
   "cell_type": "code",
   "execution_count": 12,
   "id": "2b818379",
   "metadata": {},
   "outputs": [
    {
     "name": "stdout",
     "output_type": "stream",
     "text": [
      "orders \n",
      " Начало:2019-08-01 00:00:00.\n",
      " Конец:2019-08-31 00:00:00\n",
      "visitors \n",
      " Начало:2019-08-01 00:00:00.\n",
      " Конец:2019-08-31 00:00:00\n"
     ]
    }
   ],
   "source": [
    "print(f'orders \\n Начало:{orders.date.min()}.\\n Конец:{orders.date.max()}')\n",
    "print(f'visitors \\n Начало:{visitors.date.min()}.\\n Конец:{visitors.date.max()}')"
   ]
  },
  {
   "cell_type": "markdown",
   "id": "2e2d9a16",
   "metadata": {},
   "source": [
    "**Вывод:** Результаты A/B-тестов записаны корректно, пропуски отсутствуют, данные приведены к типу, позволяющему проводить дальнейшие исследования. Период проведения теста: с 01.08.2019 по 31.08.2019."
   ]
  },
  {
   "cell_type": "code",
   "execution_count": 13,
   "id": "f1ec4ebf",
   "metadata": {},
   "outputs": [
    {
     "data": {
      "text/plain": [
       "0"
      ]
     },
     "execution_count": 13,
     "metadata": {},
     "output_type": "execute_result"
    }
   ],
   "source": [
    "# проверим данные на наличие явных дубликатов\n",
    "orders.duplicated().sum()"
   ]
  },
  {
   "cell_type": "code",
   "execution_count": 14,
   "id": "1c96fa2e",
   "metadata": {},
   "outputs": [
    {
     "data": {
      "text/plain": [
       "0"
      ]
     },
     "execution_count": 14,
     "metadata": {},
     "output_type": "execute_result"
    }
   ],
   "source": [
    "visitors.duplicated().sum()"
   ]
  },
  {
   "cell_type": "markdown",
   "id": "7bc9964f",
   "metadata": {},
   "source": [
    "Явных дубликатов в датайфреймах нет."
   ]
  },
  {
   "cell_type": "code",
   "execution_count": 15,
   "id": "5de8223b",
   "metadata": {},
   "outputs": [
    {
     "data": {
      "text/plain": [
       "array(['B', 'A'], dtype=object)"
      ]
     },
     "execution_count": 15,
     "metadata": {},
     "output_type": "execute_result"
    }
   ],
   "source": [
    "# посмотрим сколько групп в AB-тесте\n",
    "orders['group'].unique()"
   ]
  },
  {
   "cell_type": "markdown",
   "id": "ad521aa2",
   "metadata": {},
   "source": [
    "В A/B-тесте 2 группы пользователей, группа `A` и группа `B`."
   ]
  },
  {
   "cell_type": "code",
   "execution_count": 16,
   "id": "e897fe74",
   "metadata": {},
   "outputs": [
    {
     "data": {
      "text/plain": [
       "group\n",
       "A    503\n",
       "B    586\n",
       "Name: visitorId, dtype: int64"
      ]
     },
     "execution_count": 16,
     "metadata": {},
     "output_type": "execute_result"
    }
   ],
   "source": [
    "# рассмотрим количество пользователей в каждой группе\n",
    "orders.groupby('group')['visitorId'].nunique()"
   ]
  },
  {
   "cell_type": "markdown",
   "id": "d5d7d368",
   "metadata": {},
   "source": [
    "В заказах группы `B` уникальных пользователей больше, стоит проверить не попадали ли пользователи в обе группы. Также стоит отметить, что если группы не равны, сравнивать их можно, но не по абсолютным метрикам. Необходимо сравнивать долевые или нормированные на число пользователей метрики."
   ]
  },
  {
   "cell_type": "code",
   "execution_count": 17,
   "id": "424aca49",
   "metadata": {},
   "outputs": [
    {
     "data": {
      "text/plain": [
       "58"
      ]
     },
     "execution_count": 17,
     "metadata": {},
     "output_type": "execute_result"
    }
   ],
   "source": [
    "a_users = orders[orders['group'] == 'A']['visitorId'].unique()\n",
    "b_users = orders[orders['group'] == 'B']['visitorId'].unique()\n",
    "common = []\n",
    "\n",
    "for i in a_users:\n",
    "    if i in list(b_users):\n",
    "        common.append(i)\n",
    "            \n",
    "len(common)"
   ]
  },
  {
   "cell_type": "code",
   "execution_count": 18,
   "id": "7e969e71",
   "metadata": {
    "scrolled": true
   },
   "outputs": [
    {
     "data": {
      "text/plain": [
       "58"
      ]
     },
     "execution_count": 18,
     "metadata": {},
     "output_type": "execute_result"
    }
   ],
   "source": [
    "len(set (a_users) & set (b_users))"
   ]
  },
  {
   "cell_type": "markdown",
   "id": "87de7536",
   "metadata": {},
   "source": [
    "Мы видим, что 58 пользователей попали в обе группы, что говорит о некорректности проведения A/B-теста. Удалять данных пользователей не имеет смысла, так как это также исказит результаты. Буду анализировать результаты несмотря на то, что 58 пользователей попали в обе группы."
   ]
  },
  {
   "cell_type": "code",
   "execution_count": 19,
   "id": "1399c704",
   "metadata": {},
   "outputs": [
    {
     "data": {
      "image/png": "[encoded data removed]",
      "text/plain": [
       "<Figure size 432x288 with 1 Axes>"
      ]
     },
     "metadata": {
      "needs_background": "light"
     },
     "output_type": "display_data"
    }
   ],
   "source": [
    "# посмотрим динамику посетителей по дням по группам\n",
    "a_visitors = visitors[visitors['group'] == 'A']\n",
    "b_visitors = visitors[visitors['group'] == 'B']\n",
    "\n",
    "plt.plot(a_visitors['date'], a_visitors['visitors'], label='A')\n",
    "plt.plot(b_visitors['date'], b_visitors['visitors'], label='B')\n",
    "plt.legend()\n",
    "plt.xticks(rotation=90)\n",
    "plt.title('Динамика посетителей по дням')\n",
    "plt.xlabel('Дата')\n",
    "plt.ylabel('Количество посетителей')\n",
    "plt.show()"
   ]
  },
  {
   "cell_type": "markdown",
   "id": "0cc57bdb",
   "metadata": {},
   "source": [
    "Динамика посетителей по дням в обеих группах очень схожа. Количество посетителей резко падает каждую субботу. Можно сказать, что поведение обеих групп одинаковое, что хорошо для объективности результатов A/B теста."
   ]
  },
  {
   "cell_type": "code",
   "execution_count": 20,
   "id": "02b7d20a",
   "metadata": {
    "scrolled": true
   },
   "outputs": [
    {
     "data": {
      "text/plain": [
       "5"
      ]
     },
     "execution_count": 20,
     "metadata": {},
     "output_type": "execute_result"
    }
   ],
   "source": [
    "dt.datetime.weekday(dt.datetime(2019,8,3))"
   ]
  },
  {
   "cell_type": "markdown",
   "id": "31fd7f02",
   "metadata": {},
   "source": [
    "Пропуски в данных отсутствуют, явных дубликатов нет, данные приведены к типу, позволяющему проводить дальнейшие исследования. Период проведения теста: с 01.08.2019 по 31.08.2019.\n",
    "58 пользователей попали в обе группы, что говорит о некорректности проведения A/B-теста. Однако удалять их не имеет смысла, так как это также исказит результаты исследования. Исходя из динамики посещений можно сказать, что поведение обеих групп очень схоже."
   ]
  },
  {
   "cell_type": "markdown",
   "id": "50671798",
   "metadata": {},
   "source": [
    "#### Cбор кумулятивных данных"
   ]
  },
  {
   "cell_type": "markdown",
   "id": "ece17a5d",
   "metadata": {},
   "source": [
    "Необходимо собрать кумулятивные данные. Создадим датафрейм `cumulativeData` со столбцами:  \n",
    "`date` — дата;  \n",
    "`group` — группа A/B-теста (A или B);  \n",
    "`orders` — кумулятивное количество заказов на указанную дату в указанной группе;  \n",
    "`buyers` — кумулятивное количество пользователей, совершивших хотя бы один заказ, на указанную дату в указанной группе;  \n",
    "`revenue` — кумулятивная выручка на указанную дату в указанной группе (средний чек);  \n",
    "`visitors` — кумулятивное количество посетителей интернет-магазина на указанную дату в определённой группе.  "
   ]
  },
  {
   "cell_type": "code",
   "execution_count": 21,
   "id": "93c13180",
   "metadata": {
    "scrolled": true
   },
   "outputs": [
    {
     "data": {
      "text/html": [
       "<div>\n",
       "<style scoped>\n",
       "    .dataframe tbody tr th:only-of-type {\n",
       "        vertical-align: middle;\n",
       "    }\n",
       "\n",
       "    .dataframe tbody tr th {\n",
       "        vertical-align: top;\n",
       "    }\n",
       "\n",
       "    .dataframe thead th {\n",
       "        text-align: right;\n",
       "    }\n",
       "</style>\n",
       "<table border=\"1\" class=\"dataframe\">\n",
       "  <thead>\n",
       "    <tr style=\"text-align: right;\">\n",
       "      <th></th>\n",
       "      <th>date</th>\n",
       "      <th>group</th>\n",
       "      <th>orders</th>\n",
       "      <th>buyers</th>\n",
       "      <th>revenue</th>\n",
       "      <th>visitors</th>\n",
       "    </tr>\n",
       "  </thead>\n",
       "  <tbody>\n",
       "    <tr>\n",
       "      <th>0</th>\n",
       "      <td>2019-08-01</td>\n",
       "      <td>A</td>\n",
       "      <td>24</td>\n",
       "      <td>20</td>\n",
       "      <td>148579</td>\n",
       "      <td>719</td>\n",
       "    </tr>\n",
       "    <tr>\n",
       "      <th>1</th>\n",
       "      <td>2019-08-01</td>\n",
       "      <td>B</td>\n",
       "      <td>21</td>\n",
       "      <td>20</td>\n",
       "      <td>101217</td>\n",
       "      <td>713</td>\n",
       "    </tr>\n",
       "    <tr>\n",
       "      <th>2</th>\n",
       "      <td>2019-08-02</td>\n",
       "      <td>A</td>\n",
       "      <td>44</td>\n",
       "      <td>38</td>\n",
       "      <td>242401</td>\n",
       "      <td>1338</td>\n",
       "    </tr>\n",
       "    <tr>\n",
       "      <th>3</th>\n",
       "      <td>2019-08-02</td>\n",
       "      <td>B</td>\n",
       "      <td>45</td>\n",
       "      <td>43</td>\n",
       "      <td>266748</td>\n",
       "      <td>1294</td>\n",
       "    </tr>\n",
       "    <tr>\n",
       "      <th>4</th>\n",
       "      <td>2019-08-03</td>\n",
       "      <td>A</td>\n",
       "      <td>68</td>\n",
       "      <td>62</td>\n",
       "      <td>354874</td>\n",
       "      <td>1845</td>\n",
       "    </tr>\n",
       "  </tbody>\n",
       "</table>\n",
       "</div>"
      ],
      "text/plain": [
       "        date group  orders  buyers  revenue  visitors\n",
       "0 2019-08-01     A      24      20   148579       719\n",
       "1 2019-08-01     B      21      20   101217       713\n",
       "2 2019-08-02     A      44      38   242401      1338\n",
       "3 2019-08-02     B      45      43   266748      1294\n",
       "4 2019-08-03     A      68      62   354874      1845"
      ]
     },
     "execution_count": 21,
     "metadata": {},
     "output_type": "execute_result"
    }
   ],
   "source": [
    "# создадим массив уникальных пар значений дат и групп теста\n",
    "datesGroups = orders[['date','group']].drop_duplicates()\n",
    "\n",
    "# получаем агрегированные кумулятивные данные о заказах по дням\n",
    "ordersAggregated = (\n",
    "    datesGroups.apply(lambda x: orders[np.logical_and(orders['date'] <= x['date'], orders['group'] == x['group'])]\n",
    "                      .agg({'date' : 'max', 'group' : 'max', 'transactionId' : 'nunique', 'visitorId' : 'nunique', 'revenue' : 'sum'}),\n",
    "                      axis=1)\n",
    "    .sort_values(by=['date','group'])\n",
    ")\n",
    "\n",
    "# получаем агрегированные кумулятивные данные о посетителях по дням\n",
    "visitorsAggregated = (\n",
    "    datesGroups.apply(lambda x: visitors[np.logical_and(visitors['date'] <= x['date'], visitors['group'] == x['group'])]\n",
    "                      .agg({'date' : 'max', 'group' : 'max', 'visitors' : 'sum'}),\n",
    "                      axis=1)\n",
    "    .sort_values(by=['date','group'])\n",
    ")\n",
    "\n",
    "# объединяем кумулятивные данные в одну таблицу и присвоим понятные названия столбцов\n",
    "cumulativeData = ordersAggregated.merge(visitorsAggregated, on=['date', 'group'])\n",
    "cumulativeData.columns = ['date', 'group', 'orders', 'buyers', 'revenue', 'visitors']\n",
    "\n",
    "cumulativeData.head()                      "
   ]
  },
  {
   "cell_type": "code",
   "execution_count": 22,
   "id": "8801488f",
   "metadata": {
    "scrolled": true
   },
   "outputs": [
    {
     "name": "stdout",
     "output_type": "stream",
     "text": [
      "cumulativeData \n",
      " Начало:2019-08-01 00:00:00.\n",
      " Конец:2019-08-31 00:00:00\n"
     ]
    }
   ],
   "source": [
    "print(f'cumulativeData \\n Начало:{cumulativeData.date.min()}.\\n Конец:{cumulativeData.date.max()}')"
   ]
  },
  {
   "cell_type": "markdown",
   "id": "3d995610",
   "metadata": {},
   "source": [
    "Минимальная и максимальная даты в датафрейме cumulativeData сопадают с минимальной и максимальной датой в исходных данных."
   ]
  },
  {
   "cell_type": "markdown",
   "id": "888529d6",
   "metadata": {},
   "source": [
    "#### График кумулятивной выручки по группам"
   ]
  },
  {
   "cell_type": "code",
   "execution_count": 23,
   "id": "9753c6d7",
   "metadata": {},
   "outputs": [
    {
     "data": {
      "image/png": "[encoded data removed]",
      "text/plain": [
       "<Figure size 432x288 with 1 Axes>"
      ]
     },
     "metadata": {
      "needs_background": "light"
     },
     "output_type": "display_data"
    }
   ],
   "source": [
    "# создадим датафреймы с кумулятивной выручкой и количеством заказов (для дальнейшего расчета среднего чека) по группам\n",
    "cumulativeRevenueA = cumulativeData[cumulativeData['group'] == 'A'][['date', 'revenue', 'orders']]\n",
    "cumulativeRevenueB = cumulativeData[cumulativeData['group'] == 'B'][['date', 'revenue', 'orders']]\n",
    "\n",
    "# построим график кумулятивной выручки по группам\n",
    "plt.plot(cumulativeRevenueA['date'], cumulativeRevenueA['revenue'], label='A')\n",
    "plt.plot(cumulativeRevenueB['date'], cumulativeRevenueB['revenue'], label='B')\n",
    "plt.legend()\n",
    "plt.xticks(rotation=45)\n",
    "plt.grid()\n",
    "plt.title('График кумулятивной выручки по группам')\n",
    "plt.xlabel('Дата')\n",
    "plt.ylabel('Выручка, у.е.')\n",
    "plt.show()"
   ]
  },
  {
   "cell_type": "markdown",
   "id": "ece38ed3",
   "metadata": {},
   "source": [
    "**Вывод:** Исходя из графика кумулятивной выручки можно сказать, что в обеих группах наблюдаются несколько точек, где выручка резко растет. Это может говорить о всплесках числа заказов, либо о появлении аномально дорогих заказов. Следует подробно проанализировать число заказов, а также их стоимость, возможно необходимо избавиться от выбросов."
   ]
  },
  {
   "cell_type": "markdown",
   "id": "4a900e0c",
   "metadata": {},
   "source": [
    "#### График кумулятивного среднего чека по группам"
   ]
  },
  {
   "cell_type": "code",
   "execution_count": 24,
   "id": "6dd686eb",
   "metadata": {},
   "outputs": [
    {
     "data": {
      "image/png": "[encoded data removed]",
      "text/plain": [
       "<Figure size 432x288 with 1 Axes>"
      ]
     },
     "metadata": {
      "needs_background": "light"
     },
     "output_type": "display_data"
    }
   ],
   "source": [
    "# Посчитаем средний чек разделив выручку на количество заказав и построим график\n",
    "plt.plot(cumulativeRevenueA['date'], cumulativeRevenueA['revenue']/cumulativeRevenueA['orders'], label='A')\n",
    "plt.plot(cumulativeRevenueB['date'], cumulativeRevenueB['revenue']/cumulativeRevenueB['orders'], label='B')\n",
    "plt.legend()\n",
    "plt.xticks(rotation=45)\n",
    "plt.grid()\n",
    "plt.title('График кумулятивного среднего чека по группам')\n",
    "plt.xlabel('Дата')\n",
    "plt.ylabel('Средний чек, у.е.')\n",
    "plt.show()"
   ]
  },
  {
   "cell_type": "markdown",
   "id": "ae8b04f5",
   "metadata": {},
   "source": [
    "**Вывод:** График кумулятивного среднего чека показывает резкие скачки в обеих группах, и к концу теста становится более равномерным. Данный график также подтверждает предположение о наличии аномально дорогих заказов, которые сильно завысили средний чек в определенные даты.  \n",
    "\n",
    "Можно сказать, что средний чек группы `B` также выше, чем в `A`. Однако к концу теста наблюдается небольшое падение среднего чека в `B`, возможно это также связано с выбросами."
   ]
  },
  {
   "cell_type": "markdown",
   "id": "5294334e",
   "metadata": {},
   "source": [
    "#### График относительного изменения кумулятивного среднего чека группы B к группе A"
   ]
  },
  {
   "cell_type": "code",
   "execution_count": 25,
   "id": "babf9ba6",
   "metadata": {},
   "outputs": [
    {
     "data": {
      "image/png": "[encoded data removed]",
      "text/plain": [
       "<Figure size 432x288 with 1 Axes>"
      ]
     },
     "metadata": {
      "needs_background": "light"
     },
     "output_type": "display_data"
    }
   ],
   "source": [
    "# Необходимо собрать данные в один датафрейм\n",
    "mergedCumulativeRevenue = cumulativeRevenueA.merge(cumulativeRevenueB, on='date', how='left', suffixes=['A', 'B'])\n",
    "\n",
    "# Построим график относительного изменения кумулятивного среднего чека группы B к группе A\n",
    "plt.plot(mergedCumulativeRevenue['date'], \n",
    "         (mergedCumulativeRevenue['revenueB']/mergedCumulativeRevenue['ordersB']) / \n",
    "         (mergedCumulativeRevenue['revenueA']/mergedCumulativeRevenue['ordersA']) - 1)\n",
    "\n",
    "\n",
    "plt.xticks(rotation=45)\n",
    "plt.grid()\n",
    "plt.title('График относительного изменения кумулятивного среднего чека B к A')\n",
    "plt.xlabel('Дата')\n",
    "plt.ylabel('Доля')\n",
    "plt.axhline(y=0, color='black', linestyle='--')\n",
    "plt.show()"
   ]
  },
  {
   "cell_type": "markdown",
   "id": "75f2265f",
   "metadata": {},
   "source": [
    "**Вывод:** Исходя из графика относительного изменения кумулятивного среднего чека группы `B` к группе `A`, можно сказать, что наблюдаются резкие скачки, что также подтверждает наличие выбросов. \n",
    "\n",
    "Средний чек в группе `B` почти всегда больше, кроме скачка вниз 13-го числа. К концу теста средний чек группы `B` на 25% больше чека группы `A`."
   ]
  },
  {
   "cell_type": "markdown",
   "id": "630d586f",
   "metadata": {},
   "source": [
    "#### График кумулятивного среднего количества заказов на посетителя по группам"
   ]
  },
  {
   "cell_type": "markdown",
   "id": "edf26c50",
   "metadata": {},
   "source": [
    "Чтобы найти среднее количество заказов на посетителя, надо количество заказов разделить на количество посетителей, это и есть конверсия."
   ]
  },
  {
   "cell_type": "code",
   "execution_count": 26,
   "id": "21342e8b",
   "metadata": {},
   "outputs": [
    {
     "data": {
      "image/png": "[encoded data removed]",
      "text/plain": [
       "<Figure size 432x288 with 1 Axes>"
      ]
     },
     "metadata": {
      "needs_background": "light"
     },
     "output_type": "display_data"
    }
   ],
   "source": [
    "# считаем кумулятивную конверсию\n",
    "cumulativeData['conversion'] = cumulativeData['orders']/cumulativeData['visitors']\n",
    "\n",
    "# отделяем данные по группам\n",
    "cumulativeDataA = cumulativeData[cumulativeData['group']=='A']\n",
    "cumulativeDataB = cumulativeData[cumulativeData['group']=='B']\n",
    "\n",
    "# строим графики\n",
    "plt.plot(cumulativeDataA['date'], cumulativeDataA['conversion'], label='A')\n",
    "plt.plot(cumulativeDataB['date'], cumulativeDataB['conversion'], label='B')\n",
    "plt.legend()\n",
    "plt.xticks(rotation=45)\n",
    "plt.grid()\n",
    "plt.title('График кумулятивного среднего количества заказов на посетителя по группам')\n",
    "plt.xlabel('Дата')\n",
    "plt.ylabel('Конверсия')\n",
    "plt.show()"
   ]
  },
  {
   "cell_type": "markdown",
   "id": "5c08f049",
   "metadata": {},
   "source": [
    "**Вывод:** Почти сразу конверсия группы `B` вырывается вперед и за все время теста стабильно выше конверсии в группе `A`."
   ]
  },
  {
   "cell_type": "markdown",
   "id": "814286c1",
   "metadata": {},
   "source": [
    "#### График относительного изменения кумулятивного среднего количества заказов на посетителя группы B к группе A."
   ]
  },
  {
   "cell_type": "code",
   "execution_count": 27,
   "id": "3fffd3d4",
   "metadata": {},
   "outputs": [
    {
     "data": {
      "image/png": "[encoded data removed]",
      "text/plain": [
       "<Figure size 432x288 with 1 Axes>"
      ]
     },
     "metadata": {
      "needs_background": "light"
     },
     "output_type": "display_data"
    }
   ],
   "source": [
    "# Необходимо собрать данные в один датафрейм\n",
    "mergedCumulativeConversions = cumulativeDataA[['date', 'conversion']].merge(cumulativeDataB[['date', 'conversion']], on='date', how='left', suffixes=['A', 'B'])\n",
    "\n",
    "# Построим график\n",
    "plt.plot(mergedCumulativeConversions['date'], \n",
    "         mergedCumulativeConversions['conversionB'] / mergedCumulativeConversions['conversionA'] - 1)\n",
    "\n",
    "plt.xticks(rotation=45)\n",
    "plt.grid()\n",
    "plt.title('График относительного изменения кумулятивного среднего количества заказов на посетителя')\n",
    "plt.xlabel('Дата')\n",
    "plt.ylabel('Доля')\n",
    "plt.axhline(y=0, color='black', linestyle='--')\n",
    "plt.axhline(y=0.14, color='grey', linestyle='--')\n",
    "plt.show()"
   ]
  },
  {
   "cell_type": "markdown",
   "id": "dddab1e6",
   "metadata": {},
   "source": [
    "**Вывод:** В начале теста наблюдается резкий скачок конверсии группы `B` относительно `A`, возможно имеют место выбросы. Затем наблюдается стабильный рост и установление преимущества конверсии группы `B` над группой `A`. Можно сказать, что отношениие конверсии установилось, группа `B` конвертируется на 14% лучше."
   ]
  },
  {
   "cell_type": "markdown",
   "id": "ff07fd08",
   "metadata": {},
   "source": [
    "#### Точечный график количества заказов по пользователям"
   ]
  },
  {
   "cell_type": "code",
   "execution_count": 28,
   "id": "383b0860",
   "metadata": {},
   "outputs": [
    {
     "data": {
      "text/html": [
       "<div>\n",
       "<style scoped>\n",
       "    .dataframe tbody tr th:only-of-type {\n",
       "        vertical-align: middle;\n",
       "    }\n",
       "\n",
       "    .dataframe tbody tr th {\n",
       "        vertical-align: top;\n",
       "    }\n",
       "\n",
       "    .dataframe thead th {\n",
       "        text-align: right;\n",
       "    }\n",
       "</style>\n",
       "<table border=\"1\" class=\"dataframe\">\n",
       "  <thead>\n",
       "    <tr style=\"text-align: right;\">\n",
       "      <th></th>\n",
       "      <th>visitorId</th>\n",
       "      <th>orders</th>\n",
       "    </tr>\n",
       "  </thead>\n",
       "  <tbody>\n",
       "    <tr>\n",
       "      <th>1023</th>\n",
       "      <td>4256040402</td>\n",
       "      <td>11</td>\n",
       "    </tr>\n",
       "    <tr>\n",
       "      <th>591</th>\n",
       "      <td>2458001652</td>\n",
       "      <td>11</td>\n",
       "    </tr>\n",
       "    <tr>\n",
       "      <th>569</th>\n",
       "      <td>2378935119</td>\n",
       "      <td>9</td>\n",
       "    </tr>\n",
       "    <tr>\n",
       "      <th>487</th>\n",
       "      <td>2038680547</td>\n",
       "      <td>8</td>\n",
       "    </tr>\n",
       "    <tr>\n",
       "      <th>44</th>\n",
       "      <td>199603092</td>\n",
       "      <td>5</td>\n",
       "    </tr>\n",
       "    <tr>\n",
       "      <th>744</th>\n",
       "      <td>3062433592</td>\n",
       "      <td>5</td>\n",
       "    </tr>\n",
       "    <tr>\n",
       "      <th>55</th>\n",
       "      <td>237748145</td>\n",
       "      <td>5</td>\n",
       "    </tr>\n",
       "    <tr>\n",
       "      <th>917</th>\n",
       "      <td>3803269165</td>\n",
       "      <td>5</td>\n",
       "    </tr>\n",
       "    <tr>\n",
       "      <th>299</th>\n",
       "      <td>1230306981</td>\n",
       "      <td>5</td>\n",
       "    </tr>\n",
       "    <tr>\n",
       "      <th>897</th>\n",
       "      <td>3717692402</td>\n",
       "      <td>5</td>\n",
       "    </tr>\n",
       "  </tbody>\n",
       "</table>\n",
       "</div>"
      ],
      "text/plain": [
       "       visitorId  orders\n",
       "1023  4256040402      11\n",
       "591   2458001652      11\n",
       "569   2378935119       9\n",
       "487   2038680547       8\n",
       "44     199603092       5\n",
       "744   3062433592       5\n",
       "55     237748145       5\n",
       "917   3803269165       5\n",
       "299   1230306981       5\n",
       "897   3717692402       5"
      ]
     },
     "execution_count": 28,
     "metadata": {},
     "output_type": "execute_result"
    }
   ],
   "source": [
    "# сначала необходимо подсчитать количество заказов по пользователям\n",
    "ordersByUsers = (\n",
    "    orders.groupby('visitorId', as_index=False)['transactionId']\n",
    "    .agg('nunique')\n",
    ")\n",
    "ordersByUsers.columns = ['visitorId', 'orders']\n",
    "\n",
    "ordersByUsers.sort_values(by='orders', ascending=False).head(10)"
   ]
  },
  {
   "cell_type": "code",
   "execution_count": 29,
   "id": "d83f8f81",
   "metadata": {},
   "outputs": [
    {
     "data": {
      "image/png": "[encoded data removed]",
      "text/plain": [
       "<Figure size 432x288 with 1 Axes>"
      ]
     },
     "metadata": {
      "needs_background": "light"
     },
     "output_type": "display_data"
    }
   ],
   "source": [
    "# Построим точечный график\n",
    "x_values = pd.Series(range(len(ordersByUsers)))\n",
    "plt.scatter(x_values, ordersByUsers['orders'])\n",
    "plt.title('Точечный график количества заказов по пользователям')\n",
    "plt.ylabel('Количество заказов')\n",
    "plt.show()"
   ]
  },
  {
   "cell_type": "markdown",
   "id": "ec4570b1",
   "metadata": {},
   "source": [
    "**Вывод:** Подавляющее число пользоватлей делает всего 1-2 заказа, намного реже пользователи делают 3 заказа. Больше 4 заказов встречается очень редко, возможно таких пользователей можно считать аномальными, необходимо изучить подробнее. "
   ]
  },
  {
   "cell_type": "markdown",
   "id": "1f997bff",
   "metadata": {},
   "source": [
    "#### Границу для определения аномальных пользователей по количеству заказов"
   ]
  },
  {
   "cell_type": "code",
   "execution_count": 30,
   "id": "d1f23e1c",
   "metadata": {},
   "outputs": [
    {
     "data": {
      "text/plain": [
       "array([2., 4.])"
      ]
     },
     "execution_count": 30,
     "metadata": {},
     "output_type": "execute_result"
    }
   ],
   "source": [
    "# для опредления границы посчитаем 95-й и 99-й перцентили количества заказов на пользователя\n",
    "np.percentile(ordersByUsers['orders'], [95, 99])"
   ]
  },
  {
   "cell_type": "markdown",
   "id": "0ec5d94a",
   "metadata": {},
   "source": [
    "**Вывод:** 5% пользователей сделали больше 2 заказов и 1% заказали больше 4 раз. Разумно отсеять пользователей по 99 перцентилю и аномальными считать тех пользователей, кто заказал больше 4 раз."
   ]
  },
  {
   "cell_type": "markdown",
   "id": "7c0c9f3f",
   "metadata": {},
   "source": [
    "#### Точечный график стоимостей заказов"
   ]
  },
  {
   "cell_type": "code",
   "execution_count": 31,
   "id": "9a6133f2",
   "metadata": {},
   "outputs": [
    {
     "data": {
      "image/png": "[encoded data removed]",
      "text/plain": [
       "<Figure size 432x288 with 1 Axes>"
      ]
     },
     "metadata": {
      "needs_background": "light"
     },
     "output_type": "display_data"
    }
   ],
   "source": [
    "x_values = pd.Series(range(len(orders)))\n",
    "plt.scatter(x_values, orders['revenue'])\n",
    "plt.title('Точечный график стоимостей заказов')\n",
    "plt.ylabel('Стоимость заказа, у.е.')\n",
    "plt.show()"
   ]
  },
  {
   "cell_type": "code",
   "execution_count": 32,
   "id": "70ab7065",
   "metadata": {},
   "outputs": [
    {
     "data": {
      "image/png": "[encoded data removed]",
      "text/plain": [
       "<Figure size 432x288 with 1 Axes>"
      ]
     },
     "metadata": {
      "needs_background": "light"
     },
     "output_type": "display_data"
    }
   ],
   "source": [
    "# Из-за аномально дорогих заказов в 1,3 млн у.е. и 202 тыс. у.е. график получился непоказательный\n",
    "# Ограничим стоимость заказа 200 тыс. у.е.\n",
    "orders_1 = orders[orders['revenue'] < 200000]\n",
    "x_values = pd.Series(range(len(orders_1)))\n",
    "plt.scatter(x_values, orders_1['revenue'])\n",
    "plt.title('Точечный график стоимостей заказов')\n",
    "plt.ylabel('Стоимость заказа, у.е.')\n",
    "plt.show()"
   ]
  },
  {
   "cell_type": "markdown",
   "id": "26fd9bad",
   "metadata": {},
   "source": [
    "**Вывод:** После отсеивания заказов дороже 200 тыс. у.е. точечный график стал информативным. В основном заказы дешеле 20 тыс. у.е., однако точную границу аномально дорогих заказов таким образом определить проблематично."
   ]
  },
  {
   "cell_type": "markdown",
   "id": "2d3dbcec",
   "metadata": {},
   "source": [
    "#### Граница для определения аномальных заказов по стоимости заказов"
   ]
  },
  {
   "cell_type": "code",
   "execution_count": 33,
   "id": "96ce502c",
   "metadata": {
    "scrolled": true
   },
   "outputs": [
    {
     "data": {
      "text/plain": [
       "array([28000. , 58233.2])"
      ]
     },
     "execution_count": 33,
     "metadata": {},
     "output_type": "execute_result"
    }
   ],
   "source": [
    "np.percentile(orders['revenue'], [95, 99])"
   ]
  },
  {
   "cell_type": "markdown",
   "id": "abf7f742",
   "metadata": {},
   "source": [
    "**Вывод:** 5% заказов дороже 28 тыс. у.е. и 1% дороже 58,2 тыс. у.е. Разумно отсеять пользователей по 99 перцентилю и аномальными считать заказы дороже 58,2 тыс. у.е."
   ]
  },
  {
   "cell_type": "markdown",
   "id": "3bf76386",
   "metadata": {},
   "source": [
    "#### Статистическая значимость различий в среднем количестве заказов на посетителя между группами по «сырым» данным"
   ]
  },
  {
   "cell_type": "markdown",
   "id": "0f69c3fb",
   "metadata": {},
   "source": [
    "Сформулируем нулевую и альтернативные гипотезы:  \n",
    "**Н0:** Различий в среднем количестве заказов на посетителя между группами нет.  \n",
    "**Н1:** Различия в среднем количестве заказов на посетителя между группами есть.  \n",
    "Критический уровень статистической значимости установим на отметке **0.05**."
   ]
  },
  {
   "cell_type": "code",
   "execution_count": 34,
   "id": "88aee417",
   "metadata": {},
   "outputs": [],
   "source": [
    "# Создадим датафреймы с числом совершенных заказов пользователями по группам\n",
    "ordersByUsersA = (\n",
    "    orders[orders['group'] == 'A']\n",
    "    .groupby('visitorId', as_index=False)['transactionId']\n",
    "    .agg('nunique')\n",
    ")\n",
    "ordersByUsersA.columns = ['visitorId', 'orders']\n",
    "\n",
    "ordersByUsersB = (\n",
    "    orders[orders['group'] == 'B']\n",
    "    .groupby('visitorId', as_index=False)['transactionId']\n",
    "    .agg('nunique')\n",
    ")\n",
    "ordersByUsersB.columns = ['visitorId', 'orders']"
   ]
  },
  {
   "cell_type": "code",
   "execution_count": 35,
   "id": "072e4f8a",
   "metadata": {},
   "outputs": [
    {
     "name": "stdout",
     "output_type": "stream",
     "text": [
      "p-value: 0.017\n",
      "Относительный прирост среднего числа заказов группы B: 0.138\n"
     ]
    }
   ],
   "source": [
    "# Объявим переменные sampleA и sampleB, в которых пользователям из разных групп будет соответствовать количество заказов\n",
    "# Тем, кто ничего не заказал, будут соответствовать нули\n",
    "sampleA = pd.concat([\n",
    "    ordersByUsersA['orders'],\n",
    "    pd.Series(0, index=np.arange(visitors[visitors['group'] == 'A']['visitors'].sum() - len(orders[orders['group'] == 'A'])))\n",
    "], axis=0)\n",
    "\n",
    "sampleB = pd.concat([\n",
    "    ordersByUsersB['orders'],\n",
    "    pd.Series(0, index=np.arange(visitors[visitors['group'] == 'B']['visitors'].sum() - len(orders[orders['group'] == 'B'])))\n",
    "], axis=0)\n",
    "\n",
    "print(\"p-value: {0:.3f}\".format(st.mannwhitneyu(sampleA, sampleB)[1]))\n",
    "\n",
    "print(\"Относительный прирост среднего числа заказов группы B: {0:.3f}\".format(sampleB.mean() / sampleA.mean() - 1))"
   ]
  },
  {
   "cell_type": "markdown",
   "id": "d9f2cc22",
   "metadata": {},
   "source": [
    "**Вывод:** p-value меньше 0.05, значит, нулевую гипотезу о том, что различий в среднем количестве заказов на посетителя между группами нет, можно отвергнуть в пользу альтернативной. А относительный прирост среднего числа заказов группы `B` составил 13,8%."
   ]
  },
  {
   "cell_type": "markdown",
   "id": "b3464cf8",
   "metadata": {},
   "source": [
    "#### Статистическая значимость различий в среднем чеке заказа между группами по «сырым» данным"
   ]
  },
  {
   "cell_type": "markdown",
   "id": "e5409f0a",
   "metadata": {},
   "source": [
    "Сформулируем нулевую и альтернативные гипотезы:  \n",
    "**Н0:** Различий в среднем чеке между группами нет.  \n",
    "**Н1:** Различия в среднем чеке между группами есть.  \n",
    "Критический уровень статистической значимости установим на отметке **0.05**."
   ]
  },
  {
   "cell_type": "code",
   "execution_count": 36,
   "id": "16bdffb3",
   "metadata": {},
   "outputs": [
    {
     "name": "stdout",
     "output_type": "stream",
     "text": [
      "p-value: 0.729\n",
      "Относительный прирост среднего чека группы B:0.259\n"
     ]
    }
   ],
   "source": [
    "print('p-value: {0:.3f}'.format(st.mannwhitneyu(orders[orders['group']=='A']['revenue'], orders[orders['group']=='B']['revenue'])[1]))\n",
    "print('Относительный прирост среднего чека группы B:{0:.3f}'.format(orders[orders['group']=='B']['revenue'].mean()/orders[orders['group']=='A']['revenue'].mean()-1))"
   ]
  },
  {
   "cell_type": "markdown",
   "id": "48f183d6",
   "metadata": {},
   "source": [
    "**Вывод:** p-value значительно больше 0.05, значит отвергнуть нулевую гипотезу нельзя. Наблюдаемые различия не являются статистически значимыми при таком p-value, следовательно различие среднего чека между сегментами в 26% были получены случайно."
   ]
  },
  {
   "cell_type": "markdown",
   "id": "9b703c8c",
   "metadata": {},
   "source": [
    "#### Статистическая значимость различий в среднем количестве заказов на посетителя между группами по «очищенным» данным"
   ]
  },
  {
   "cell_type": "code",
   "execution_count": 37,
   "id": "a6ce9550",
   "metadata": {},
   "outputs": [
    {
     "name": "stdout",
     "output_type": "stream",
     "text": [
      "15\n"
     ]
    }
   ],
   "source": [
    "# Определим пользователей с аномальным количесвтом заказов\n",
    "usersWithManyOrders = pd.concat(\n",
    "    [\n",
    "        ordersByUsersA[ordersByUsersA['orders'] > np.percentile(ordersByUsers['orders'], 99)]['visitorId'],\n",
    "        ordersByUsersB[ordersByUsersB['orders'] > np.percentile(ordersByUsers['orders'], 99)]['visitorId'],\n",
    "    ],\n",
    "    axis=0,\n",
    ")\n",
    "\n",
    "# Определим пользователей  c аномально дорогими заказами\n",
    "usersWithExpensiveOrders = orders[orders['revenue'] > np.percentile(orders['revenue'], 99)]['visitorId']\n",
    "\n",
    "# Объединим этих пользоватлей как аномальных\n",
    "abnormalUsers = (\n",
    "    pd.concat([usersWithManyOrders, usersWithExpensiveOrders], axis=0)\n",
    "    .drop_duplicates()\n",
    "    .sort_values()\n",
    ")\n",
    "print(abnormalUsers.shape[0])"
   ]
  },
  {
   "cell_type": "code",
   "execution_count": 38,
   "id": "94535807",
   "metadata": {},
   "outputs": [
    {
     "name": "stdout",
     "output_type": "stream",
     "text": [
      "p-value: 0.014\n",
      "Относительный прирост среднего числа заказов группы B: 0.153\n"
     ]
    }
   ],
   "source": [
    "# Всего 15 аномальных пользователя и их надо исключить из sample\n",
    "sampleA = pd.concat([\n",
    "    ordersByUsersA[\n",
    "            np.logical_not(ordersByUsersA['visitorId'].isin(abnormalUsers))\n",
    "        ]['orders'],\n",
    "    pd.Series(0, index=np.arange(visitors[visitors['group'] == 'A']['visitors'].sum() - len(orders[orders['group'] == 'A'])))\n",
    "], axis=0)\n",
    "\n",
    "sampleB = pd.concat([\n",
    "    ordersByUsersB[\n",
    "            np.logical_not(ordersByUsersB['visitorId'].isin(abnormalUsers))\n",
    "        ]['orders'],\n",
    "    pd.Series(0, index=np.arange(visitors[visitors['group'] == 'B']['visitors'].sum() - len(orders[orders['group'] == 'B'])))\n",
    "], axis=0)\n",
    "\n",
    "print(\"p-value: {0:.3f}\".format(st.mannwhitneyu(sampleA, sampleB)[1]))\n",
    "\n",
    "print(\"Относительный прирост среднего числа заказов группы B: {0:.3f}\".format(sampleB.mean() / sampleA.mean() - 1))"
   ]
  },
  {
   "cell_type": "markdown",
   "id": "d84f87d5",
   "metadata": {},
   "source": [
    "**Вывод:** p-value уменьшился и составил 0.014, что меньше 0.05, значит, нулевую гипотезу о том, что различий в среднем количестве заказов на посетителя между группами нет, можно отвергнуть в пользу альтернативной. Относительный прирост среднего числа заказов группы B по \"очищенным\" данным увеличился и составил 15,3%."
   ]
  },
  {
   "cell_type": "markdown",
   "id": "96d27395",
   "metadata": {},
   "source": [
    "#### Cтатистическая значимость различий в среднем чеке заказа между группами по «очищенным» данным"
   ]
  },
  {
   "cell_type": "code",
   "execution_count": 39,
   "id": "0292c224",
   "metadata": {},
   "outputs": [
    {
     "name": "stdout",
     "output_type": "stream",
     "text": [
      "p-value: 0.851\n",
      "Относительный прирост среднего чека группы B: -0.006\n"
     ]
    }
   ],
   "source": [
    "# очиситим sample от аномальных пользователей\n",
    "sampleAFiltered = orders[np.logical_and(orders['group'] == 'A', np.logical_not(orders['visitorId'].isin(abnormalUsers)))]['revenue']\n",
    "sampleBFiltered = orders[np.logical_and(orders['group'] == 'B', np.logical_not(orders['visitorId'].isin(abnormalUsers)))]['revenue']\n",
    "\n",
    "print('p-value: {0:.3f}'.format(st.mannwhitneyu(sampleAFiltered, sampleBFiltered)[1]))\n",
    "print('Относительный прирост среднего чека группы B: {0:.3f}'.format((sampleBFiltered.mean() / sampleAFiltered.mean() - 1)))"
   ]
  },
  {
   "cell_type": "markdown",
   "id": "ba35a370",
   "metadata": {},
   "source": [
    "**Вывод:** p-value всё еще значительно больше 0.05, значит отвергнуть нулевую гипотезу нельзя. Как и нельзя считать, что различия в среднем чеке между группами есть. Относительный прирост среднего чека группы изменился и составил всего -0,6% (т.е. средний чек группы B совем немного меньше А). Что говорит о верном исключении аномалий."
   ]
  },
  {
   "cell_type": "markdown",
   "id": "9c21145a",
   "metadata": {},
   "source": [
    "## Вывод"
   ]
  },
  {
   "cell_type": "markdown",
   "id": "e4d7f12a",
   "metadata": {},
   "source": [
    "В результате проведенного исследования мы выполнили ряд задач.\n",
    "\n",
    "Прежде всего были приоритизировать гипотезы по увеличению выручки интернет-магазина с применением фреймворка ICE и фреймворка RICE для приоритизации гипотез. Приоритизация гипотез при применении RICE вместо ICE значительно именилась, это можно объяснить применением критерия Reach. Кроме силы гипотез, в RICE мы учитываем как много пользователей она затронет.  \n",
    "В результате для проведения A/B-теста была выбрана гипотеза №8, именно она является наиболее перспективной, затронет наибольшее число пользователей и будет иметь сильное влияние на пользователей, их опыт и удовлетворение от продукта:  \n",
    "\n",
    "***Добавить форму подписки на все основные страницы, чтобы собрать базу клиентов для email-рассылок.***\n",
    "\n",
    "Далее мы запустили A/B-тест и проанализировали результаты.  \n",
    "Выводы по тесту сделаны следующие:\n",
    "1. Статистически значимые различия по среднему количеству заказов между группами есть. Это прослеживается и по \"сырым\" данным, и по данным после фильтрации аномалий. Относительный прирост среднего числа заказов группы `B` составил:  \n",
    "13,8% по \"сырым\" данным;  \n",
    "15,3% по \"очищенным\" данным.\n",
    "\n",
    "\n",
    "2. Статистически значимого различия по среднему чеку между группами нет ни по «сырым», ни по данным после фильтрации аномалий.\n",
    "\n",
    "3. График относительного изменения кумулятивного среднего количества заказов на посетителя группы B к группе A показал, что группа `B` стабильно конвертируется лучше группы `A`.\n",
    "\n",
    "4. После исключения аномальных пользователей средний чек группы `B` оказался на 0,6% меньше чека группы `B`, что также говорит об отсутствии значимых различий между средними чеками групп.\n",
    "\n",
    "На основании вышеизложенных фактов по результату A/B-теста принято следующее решение:  \n",
    "Остановить тест, зафиксировать победу группы `B` и и считать гипотезу по увеличению выручки интернет-магазина успешной."
   ]
  }
 ],
 "metadata": {
  "ExecuteTimeLog": [
   {
    "duration": 1109,
    "start_time": "2023-02-08T19:10:52.229Z"
   },
   {
    "duration": 998,
    "start_time": "2023-02-08T19:10:55.478Z"
   },
   {
    "duration": 128,
    "start_time": "2023-02-08T19:10:56.478Z"
   },
   {
    "duration": 3,
    "start_time": "2023-02-08T19:10:56.607Z"
   },
   {
    "duration": 15,
    "start_time": "2023-02-08T19:10:56.612Z"
   },
   {
    "duration": 19,
    "start_time": "2023-02-08T19:10:56.629Z"
   },
   {
    "duration": 13,
    "start_time": "2023-02-08T19:10:56.650Z"
   },
   {
    "duration": 121,
    "start_time": "2023-02-08T19:10:56.664Z"
   },
   {
    "duration": 89,
    "start_time": "2023-02-08T19:10:56.787Z"
   },
   {
    "duration": 11,
    "start_time": "2023-02-08T19:10:56.877Z"
   },
   {
    "duration": 11,
    "start_time": "2023-02-08T19:10:56.891Z"
   },
   {
    "duration": 17,
    "start_time": "2023-02-08T19:10:56.904Z"
   },
   {
    "duration": 8,
    "start_time": "2023-02-08T19:10:56.923Z"
   },
   {
    "duration": 294,
    "start_time": "2023-02-08T19:10:56.932Z"
   },
   {
    "duration": 296,
    "start_time": "2023-02-08T19:10:57.228Z"
   },
   {
    "duration": 196,
    "start_time": "2023-02-08T19:10:57.526Z"
   },
   {
    "duration": 315,
    "start_time": "2023-02-08T19:10:57.724Z"
   },
   {
    "duration": 262,
    "start_time": "2023-02-08T19:10:58.041Z"
   },
   {
    "duration": 347,
    "start_time": "2023-02-08T19:10:58.306Z"
   },
   {
    "duration": 12,
    "start_time": "2023-02-08T19:10:58.655Z"
   },
   {
    "duration": 139,
    "start_time": "2023-02-08T19:10:58.669Z"
   },
   {
    "duration": 4,
    "start_time": "2023-02-08T19:10:58.810Z"
   },
   {
    "duration": 152,
    "start_time": "2023-02-08T19:10:58.815Z"
   },
   {
    "duration": 143,
    "start_time": "2023-02-08T19:10:58.969Z"
   },
   {
    "duration": 5,
    "start_time": "2023-02-08T19:10:59.113Z"
   },
   {
    "duration": 21,
    "start_time": "2023-02-08T19:10:59.120Z"
   },
   {
    "duration": 31,
    "start_time": "2023-02-08T19:10:59.143Z"
   },
   {
    "duration": 10,
    "start_time": "2023-02-08T19:10:59.176Z"
   },
   {
    "duration": 35,
    "start_time": "2023-02-08T19:10:59.190Z"
   },
   {
    "duration": 48,
    "start_time": "2023-02-08T19:10:59.227Z"
   },
   {
    "duration": 11,
    "start_time": "2023-02-08T19:10:59.276Z"
   },
   {
    "duration": 1453,
    "start_time": "2023-02-16T07:36:07.812Z"
   },
   {
    "duration": 199,
    "start_time": "2023-02-16T07:36:13.701Z"
   },
   {
    "duration": 56,
    "start_time": "2023-02-16T07:36:26.918Z"
   },
   {
    "duration": 66,
    "start_time": "2023-02-16T07:36:34.677Z"
   },
   {
    "duration": 3,
    "start_time": "2023-02-16T07:37:38.109Z"
   },
   {
    "duration": 13,
    "start_time": "2023-02-16T07:37:39.398Z"
   },
   {
    "duration": 18,
    "start_time": "2023-02-16T07:37:39.797Z"
   },
   {
    "duration": 15,
    "start_time": "2023-02-16T07:37:41.125Z"
   },
   {
    "duration": 116,
    "start_time": "2023-02-16T07:37:45.069Z"
   },
   {
    "duration": 102,
    "start_time": "2023-02-16T07:37:45.925Z"
   },
   {
    "duration": 13,
    "start_time": "2023-02-16T07:37:48.216Z"
   },
   {
    "duration": 11,
    "start_time": "2023-02-16T07:37:50.021Z"
   },
   {
    "duration": 7,
    "start_time": "2023-02-16T07:38:59.326Z"
   },
   {
    "duration": 9,
    "start_time": "2023-02-16T07:39:03.981Z"
   },
   {
    "duration": 7,
    "start_time": "2023-02-16T07:39:13.469Z"
   },
   {
    "duration": 5,
    "start_time": "2023-02-16T07:41:38.167Z"
   },
   {
    "duration": 6,
    "start_time": "2023-02-16T07:41:43.549Z"
   },
   {
    "duration": 6,
    "start_time": "2023-02-16T07:42:46.954Z"
   },
   {
    "duration": 3,
    "start_time": "2023-02-16T07:45:37.162Z"
   },
   {
    "duration": 9,
    "start_time": "2023-02-16T07:46:08.338Z"
   },
   {
    "duration": 8,
    "start_time": "2023-02-16T07:46:52.868Z"
   },
   {
    "duration": 6,
    "start_time": "2023-02-16T07:47:15.900Z"
   },
   {
    "duration": 7,
    "start_time": "2023-02-16T07:47:32.858Z"
   },
   {
    "duration": 8,
    "start_time": "2023-02-16T07:50:45.397Z"
   },
   {
    "duration": 122,
    "start_time": "2023-02-16T07:51:10.566Z"
   },
   {
    "duration": 7,
    "start_time": "2023-02-16T07:51:12.901Z"
   },
   {
    "duration": 9,
    "start_time": "2023-02-16T07:51:19.741Z"
   },
   {
    "duration": 18,
    "start_time": "2023-02-16T08:00:34.234Z"
   },
   {
    "duration": 9,
    "start_time": "2023-02-16T08:00:38.731Z"
   },
   {
    "duration": 9,
    "start_time": "2023-02-16T08:07:07.822Z"
   },
   {
    "duration": 12,
    "start_time": "2023-02-16T08:07:11.389Z"
   },
   {
    "duration": 9,
    "start_time": "2023-02-16T08:07:20.850Z"
   },
   {
    "duration": 6,
    "start_time": "2023-02-16T08:10:10.462Z"
   },
   {
    "duration": 12,
    "start_time": "2023-02-16T08:10:29.855Z"
   },
   {
    "duration": 8,
    "start_time": "2023-02-16T08:10:45.957Z"
   },
   {
    "duration": 6,
    "start_time": "2023-02-16T08:10:55.359Z"
   },
   {
    "duration": 5,
    "start_time": "2023-02-16T08:11:45.679Z"
   },
   {
    "duration": 7,
    "start_time": "2023-02-16T08:12:51.671Z"
   },
   {
    "duration": 6,
    "start_time": "2023-02-16T08:23:13.926Z"
   },
   {
    "duration": 9,
    "start_time": "2023-02-16T08:23:17.989Z"
   },
   {
    "duration": 6,
    "start_time": "2023-02-16T08:23:34.838Z"
   },
   {
    "duration": 51,
    "start_time": "2023-02-16T08:24:51.458Z"
   },
   {
    "duration": 57,
    "start_time": "2023-02-16T08:24:56.470Z"
   },
   {
    "duration": 61,
    "start_time": "2023-02-16T08:25:05.649Z"
   },
   {
    "duration": 15,
    "start_time": "2023-02-16T08:27:40.239Z"
   },
   {
    "duration": 9,
    "start_time": "2023-02-16T08:28:26.207Z"
   },
   {
    "duration": 20,
    "start_time": "2023-02-16T08:28:40.753Z"
   },
   {
    "duration": 43,
    "start_time": "2023-02-16T08:28:50.872Z"
   },
   {
    "duration": 39,
    "start_time": "2023-02-16T08:28:53.576Z"
   },
   {
    "duration": 49,
    "start_time": "2023-02-16T08:29:24.824Z"
   },
   {
    "duration": 38,
    "start_time": "2023-02-16T08:29:30.968Z"
   },
   {
    "duration": 42,
    "start_time": "2023-02-16T08:29:43.250Z"
   },
   {
    "duration": 49,
    "start_time": "2023-02-16T08:29:50.632Z"
   },
   {
    "duration": 43,
    "start_time": "2023-02-16T08:30:41.761Z"
   },
   {
    "duration": 52,
    "start_time": "2023-02-16T08:30:46.137Z"
   },
   {
    "duration": 41,
    "start_time": "2023-02-16T08:30:51.264Z"
   },
   {
    "duration": 44,
    "start_time": "2023-02-16T08:31:07.752Z"
   },
   {
    "duration": 44,
    "start_time": "2023-02-16T08:31:22.329Z"
   },
   {
    "duration": 28,
    "start_time": "2023-02-16T08:31:58.377Z"
   },
   {
    "duration": 29,
    "start_time": "2023-02-16T08:32:06.402Z"
   },
   {
    "duration": 26,
    "start_time": "2023-02-16T08:32:14.193Z"
   },
   {
    "duration": 10,
    "start_time": "2023-02-16T08:45:16.240Z"
   },
   {
    "duration": 144,
    "start_time": "2023-02-16T08:46:46.372Z"
   },
   {
    "duration": 263,
    "start_time": "2023-02-16T08:48:25.023Z"
   },
   {
    "duration": 290,
    "start_time": "2023-02-16T08:49:26.833Z"
   },
   {
    "duration": 294,
    "start_time": "2023-02-16T08:49:38.518Z"
   },
   {
    "duration": 330,
    "start_time": "2023-02-16T08:50:35.075Z"
   },
   {
    "duration": 327,
    "start_time": "2023-02-16T08:50:43.627Z"
   },
   {
    "duration": 308,
    "start_time": "2023-02-16T08:50:54.842Z"
   },
   {
    "duration": 9,
    "start_time": "2023-02-16T08:53:45.331Z"
   },
   {
    "duration": 9,
    "start_time": "2023-02-16T08:53:52.996Z"
   },
   {
    "duration": 9,
    "start_time": "2023-02-16T08:54:06.123Z"
   },
   {
    "duration": 4,
    "start_time": "2023-02-16T08:54:21.644Z"
   },
   {
    "duration": 4,
    "start_time": "2023-02-16T08:55:58.293Z"
   },
   {
    "duration": 10,
    "start_time": "2023-02-16T08:56:12.876Z"
   },
   {
    "duration": 10,
    "start_time": "2023-02-16T08:56:25.380Z"
   },
   {
    "duration": 57,
    "start_time": "2023-02-16T08:56:36.260Z"
   },
   {
    "duration": 10,
    "start_time": "2023-02-16T08:56:42.410Z"
   },
   {
    "duration": 9,
    "start_time": "2023-02-16T08:56:50.701Z"
   },
   {
    "duration": 9,
    "start_time": "2023-02-16T08:56:53.574Z"
   },
   {
    "duration": 11,
    "start_time": "2023-02-16T08:56:58.222Z"
   },
   {
    "duration": 4,
    "start_time": "2023-02-16T08:57:00.701Z"
   },
   {
    "duration": 5,
    "start_time": "2023-02-16T08:57:57.341Z"
   },
   {
    "duration": 5,
    "start_time": "2023-02-16T08:58:00.686Z"
   },
   {
    "duration": 10,
    "start_time": "2023-02-16T08:59:33.227Z"
   },
   {
    "duration": 5,
    "start_time": "2023-02-16T08:59:55.263Z"
   },
   {
    "duration": 11,
    "start_time": "2023-02-16T09:01:17.903Z"
   },
   {
    "duration": 13,
    "start_time": "2023-02-16T09:12:55.333Z"
   },
   {
    "duration": 25,
    "start_time": "2023-02-16T09:12:55.348Z"
   },
   {
    "duration": 10,
    "start_time": "2023-02-16T09:12:55.375Z"
   },
   {
    "duration": 9,
    "start_time": "2023-02-16T09:12:55.387Z"
   },
   {
    "duration": 6,
    "start_time": "2023-02-16T09:12:55.399Z"
   },
   {
    "duration": 7,
    "start_time": "2023-02-16T09:12:55.406Z"
   },
   {
    "duration": 31,
    "start_time": "2023-02-16T09:12:55.415Z"
   },
   {
    "duration": 36,
    "start_time": "2023-02-16T09:12:55.449Z"
   },
   {
    "duration": 327,
    "start_time": "2023-02-16T09:12:55.486Z"
   },
   {
    "duration": 4,
    "start_time": "2023-02-16T09:12:55.815Z"
   },
   {
    "duration": 13,
    "start_time": "2023-02-16T09:13:02.472Z"
   },
   {
    "duration": 256,
    "start_time": "2023-02-16T09:13:04.300Z"
   },
   {
    "duration": 1124,
    "start_time": "2023-02-16T09:13:22.537Z"
   },
   {
    "duration": 116,
    "start_time": "2023-02-16T09:13:23.664Z"
   },
   {
    "duration": 3,
    "start_time": "2023-02-16T09:13:23.782Z"
   },
   {
    "duration": 17,
    "start_time": "2023-02-16T09:13:23.787Z"
   },
   {
    "duration": 16,
    "start_time": "2023-02-16T09:13:23.807Z"
   },
   {
    "duration": 12,
    "start_time": "2023-02-16T09:13:23.825Z"
   },
   {
    "duration": 90,
    "start_time": "2023-02-16T09:13:23.838Z"
   },
   {
    "duration": 72,
    "start_time": "2023-02-16T09:13:23.930Z"
   },
   {
    "duration": 14,
    "start_time": "2023-02-16T09:13:24.004Z"
   },
   {
    "duration": 17,
    "start_time": "2023-02-16T09:13:24.020Z"
   },
   {
    "duration": 14,
    "start_time": "2023-02-16T09:13:26.220Z"
   },
   {
    "duration": 19,
    "start_time": "2023-02-16T09:13:27.869Z"
   },
   {
    "duration": 5,
    "start_time": "2023-02-16T09:13:28.580Z"
   },
   {
    "duration": 8,
    "start_time": "2023-02-16T09:13:30.634Z"
   },
   {
    "duration": 7,
    "start_time": "2023-02-16T09:13:31.428Z"
   },
   {
    "duration": 5,
    "start_time": "2023-02-16T09:13:32.396Z"
   },
   {
    "duration": 6,
    "start_time": "2023-02-16T09:13:33.828Z"
   },
   {
    "duration": 35,
    "start_time": "2023-02-16T09:13:34.934Z"
   },
   {
    "duration": 327,
    "start_time": "2023-02-16T09:13:35.931Z"
   },
   {
    "duration": 6,
    "start_time": "2023-02-16T09:13:40.237Z"
   },
   {
    "duration": 62,
    "start_time": "2023-02-16T09:14:09.469Z"
   },
   {
    "duration": 44,
    "start_time": "2023-02-16T09:14:42.285Z"
   },
   {
    "duration": 4,
    "start_time": "2023-02-16T09:14:56.834Z"
   },
   {
    "duration": 5,
    "start_time": "2023-02-16T09:15:20.190Z"
   },
   {
    "duration": 6,
    "start_time": "2023-02-16T09:15:22.854Z"
   },
   {
    "duration": 6,
    "start_time": "2023-02-16T09:15:23.055Z"
   },
   {
    "duration": 5,
    "start_time": "2023-02-16T09:15:23.430Z"
   },
   {
    "duration": 7,
    "start_time": "2023-02-16T09:15:24.067Z"
   },
   {
    "duration": 28,
    "start_time": "2023-02-16T09:15:25.269Z"
   },
   {
    "duration": 227,
    "start_time": "2023-02-16T09:15:26.164Z"
   },
   {
    "duration": 101,
    "start_time": "2023-02-16T09:16:19.428Z"
   },
   {
    "duration": 344,
    "start_time": "2023-02-16T09:16:25.038Z"
   },
   {
    "duration": 4,
    "start_time": "2023-02-16T09:16:25.384Z"
   },
   {
    "duration": 232,
    "start_time": "2023-02-16T09:16:26.102Z"
   },
   {
    "duration": 234,
    "start_time": "2023-02-16T09:19:31.332Z"
   },
   {
    "duration": 13,
    "start_time": "2023-02-16T09:50:18.292Z"
   },
   {
    "duration": 4,
    "start_time": "2023-02-16T09:50:24.960Z"
   },
   {
    "duration": 70,
    "start_time": "2023-02-16T09:50:24.967Z"
   },
   {
    "duration": 3,
    "start_time": "2023-02-16T09:50:25.039Z"
   },
   {
    "duration": 27,
    "start_time": "2023-02-16T09:50:25.044Z"
   },
   {
    "duration": 26,
    "start_time": "2023-02-16T09:50:25.073Z"
   },
   {
    "duration": 22,
    "start_time": "2023-02-16T09:50:25.100Z"
   },
   {
    "duration": 78,
    "start_time": "2023-02-16T09:50:25.124Z"
   },
   {
    "duration": 50,
    "start_time": "2023-02-16T09:50:25.204Z"
   },
   {
    "duration": 14,
    "start_time": "2023-02-16T09:50:25.256Z"
   },
   {
    "duration": 15,
    "start_time": "2023-02-16T09:50:25.272Z"
   },
   {
    "duration": 21,
    "start_time": "2023-02-16T09:50:25.290Z"
   },
   {
    "duration": 7,
    "start_time": "2023-02-16T09:50:25.313Z"
   },
   {
    "duration": 14,
    "start_time": "2023-02-16T09:50:25.340Z"
   },
   {
    "duration": 9,
    "start_time": "2023-02-16T09:50:25.356Z"
   },
   {
    "duration": 9,
    "start_time": "2023-02-16T09:50:25.366Z"
   },
   {
    "duration": 8,
    "start_time": "2023-02-16T09:50:25.377Z"
   },
   {
    "duration": 29,
    "start_time": "2023-02-16T09:50:25.386Z"
   },
   {
    "duration": 240,
    "start_time": "2023-02-16T09:50:25.417Z"
   },
   {
    "duration": 5,
    "start_time": "2023-02-16T09:50:25.659Z"
   },
   {
    "duration": 326,
    "start_time": "2023-02-16T09:50:25.666Z"
   },
   {
    "duration": 5,
    "start_time": "2023-02-16T09:50:25.994Z"
   },
   {
    "duration": 252,
    "start_time": "2023-02-16T09:50:26.001Z"
   },
   {
    "duration": 229,
    "start_time": "2023-02-16T09:50:26.255Z"
   },
   {
    "duration": 367,
    "start_time": "2023-02-16T09:50:26.486Z"
   },
   {
    "duration": 258,
    "start_time": "2023-02-16T09:50:26.854Z"
   },
   {
    "duration": 466,
    "start_time": "2023-02-16T09:50:27.113Z"
   },
   {
    "duration": 14,
    "start_time": "2023-02-16T09:50:27.581Z"
   },
   {
    "duration": 152,
    "start_time": "2023-02-16T09:50:27.596Z"
   },
   {
    "duration": 6,
    "start_time": "2023-02-16T09:50:27.752Z"
   },
   {
    "duration": 171,
    "start_time": "2023-02-16T09:50:27.759Z"
   },
   {
    "duration": 147,
    "start_time": "2023-02-16T09:50:27.940Z"
   },
   {
    "duration": 6,
    "start_time": "2023-02-16T09:50:28.089Z"
   },
   {
    "duration": 23,
    "start_time": "2023-02-16T09:50:28.097Z"
   },
   {
    "duration": 41,
    "start_time": "2023-02-16T09:50:28.121Z"
   },
   {
    "duration": 12,
    "start_time": "2023-02-16T09:50:28.164Z"
   },
   {
    "duration": 14,
    "start_time": "2023-02-16T09:50:31.894Z"
   },
   {
    "duration": 15,
    "start_time": "2023-02-16T09:50:44.245Z"
   },
   {
    "duration": 22,
    "start_time": "2023-02-16T09:50:51.931Z"
   },
   {
    "duration": 10,
    "start_time": "2023-02-16T09:51:14.744Z"
   },
   {
    "duration": 12,
    "start_time": "2023-02-16T09:52:08.197Z"
   },
   {
    "duration": 39,
    "start_time": "2023-02-16T09:53:25.575Z"
   },
   {
    "duration": 14,
    "start_time": "2023-02-16T09:53:49.038Z"
   },
   {
    "duration": 1221,
    "start_time": "2023-02-16T09:57:48.372Z"
   },
   {
    "duration": 119,
    "start_time": "2023-02-16T09:57:49.596Z"
   },
   {
    "duration": 4,
    "start_time": "2023-02-16T09:57:49.717Z"
   },
   {
    "duration": 14,
    "start_time": "2023-02-16T09:57:49.724Z"
   },
   {
    "duration": 15,
    "start_time": "2023-02-16T09:57:49.740Z"
   },
   {
    "duration": 13,
    "start_time": "2023-02-16T09:57:49.757Z"
   },
   {
    "duration": 65,
    "start_time": "2023-02-16T09:57:49.772Z"
   },
   {
    "duration": 43,
    "start_time": "2023-02-16T09:57:49.839Z"
   },
   {
    "duration": 17,
    "start_time": "2023-02-16T09:57:49.884Z"
   },
   {
    "duration": 26,
    "start_time": "2023-02-16T09:57:49.904Z"
   },
   {
    "duration": 23,
    "start_time": "2023-02-16T09:57:49.932Z"
   },
   {
    "duration": 9,
    "start_time": "2023-02-16T09:57:49.957Z"
   },
   {
    "duration": 10,
    "start_time": "2023-02-16T09:57:49.967Z"
   },
   {
    "duration": 9,
    "start_time": "2023-02-16T09:57:49.979Z"
   },
   {
    "duration": 20,
    "start_time": "2023-02-16T09:57:49.990Z"
   },
   {
    "duration": 23,
    "start_time": "2023-02-16T09:57:50.019Z"
   },
   {
    "duration": 71,
    "start_time": "2023-02-16T09:57:50.044Z"
   },
   {
    "duration": 373,
    "start_time": "2023-02-16T09:57:50.117Z"
   },
   {
    "duration": 5,
    "start_time": "2023-02-16T09:57:50.493Z"
   },
   {
    "duration": 324,
    "start_time": "2023-02-16T09:57:50.501Z"
   },
   {
    "duration": 13,
    "start_time": "2023-02-16T09:57:50.827Z"
   },
   {
    "duration": 252,
    "start_time": "2023-02-16T09:57:50.842Z"
   },
   {
    "duration": 235,
    "start_time": "2023-02-16T09:57:51.096Z"
   },
   {
    "duration": 342,
    "start_time": "2023-02-16T09:57:51.333Z"
   },
   {
    "duration": 252,
    "start_time": "2023-02-16T09:57:51.677Z"
   },
   {
    "duration": 349,
    "start_time": "2023-02-16T09:57:51.931Z"
   },
   {
    "duration": 13,
    "start_time": "2023-02-16T09:57:52.282Z"
   },
   {
    "duration": 148,
    "start_time": "2023-02-16T09:57:52.299Z"
   },
   {
    "duration": 6,
    "start_time": "2023-02-16T09:57:52.449Z"
   },
   {
    "duration": 170,
    "start_time": "2023-02-16T09:57:52.456Z"
   },
   {
    "duration": 230,
    "start_time": "2023-02-16T09:57:52.627Z"
   },
   {
    "duration": 5,
    "start_time": "2023-02-16T09:57:52.859Z"
   },
   {
    "duration": 14,
    "start_time": "2023-02-16T09:57:52.866Z"
   },
   {
    "duration": 32,
    "start_time": "2023-02-16T09:57:52.882Z"
   },
   {
    "duration": 15,
    "start_time": "2023-02-16T09:57:52.940Z"
   },
   {
    "duration": 14,
    "start_time": "2023-02-16T09:57:52.957Z"
   },
   {
    "duration": 86,
    "start_time": "2023-02-16T09:57:52.973Z"
   },
   {
    "duration": 15,
    "start_time": "2023-02-16T09:57:53.062Z"
   },
   {
    "duration": 57,
    "start_time": "2023-02-22T11:48:38.083Z"
   },
   {
    "duration": 1273,
    "start_time": "2023-02-22T11:48:43.187Z"
   },
   {
    "duration": 164,
    "start_time": "2023-02-22T11:48:44.463Z"
   },
   {
    "duration": 4,
    "start_time": "2023-02-22T11:48:44.629Z"
   },
   {
    "duration": 14,
    "start_time": "2023-02-22T11:48:44.635Z"
   },
   {
    "duration": 17,
    "start_time": "2023-02-22T11:48:44.651Z"
   },
   {
    "duration": 12,
    "start_time": "2023-02-22T11:48:44.670Z"
   },
   {
    "duration": 105,
    "start_time": "2023-02-22T11:48:44.684Z"
   },
   {
    "duration": 106,
    "start_time": "2023-02-22T11:48:44.791Z"
   },
   {
    "duration": 12,
    "start_time": "2023-02-22T11:48:44.900Z"
   },
   {
    "duration": 36,
    "start_time": "2023-02-22T11:48:44.914Z"
   },
   {
    "duration": 42,
    "start_time": "2023-02-22T11:48:44.952Z"
   },
   {
    "duration": 59,
    "start_time": "2023-02-22T11:48:44.996Z"
   },
   {
    "duration": 24,
    "start_time": "2023-02-22T11:48:45.057Z"
   },
   {
    "duration": 27,
    "start_time": "2023-02-22T11:48:45.083Z"
   },
   {
    "duration": 43,
    "start_time": "2023-02-22T11:48:45.112Z"
   },
   {
    "duration": 28,
    "start_time": "2023-02-22T11:48:45.157Z"
   },
   {
    "duration": 31,
    "start_time": "2023-02-22T11:48:45.188Z"
   },
   {
    "duration": 44,
    "start_time": "2023-02-22T11:48:50.617Z"
   },
   {
    "duration": 7,
    "start_time": "2023-02-22T11:48:51.156Z"
   },
   {
    "duration": 6,
    "start_time": "2023-02-22T11:49:07.430Z"
   }
  ],
  "kernelspec": {
   "display_name": "Python 3 (ipykernel)",
   "language": "python",
   "name": "python3"
  },
  "language_info": {
   "codemirror_mode": {
    "name": "ipython",
    "version": 3
   },
   "file_extension": ".py",
   "mimetype": "text/x-python",
   "name": "python",
   "nbconvert_exporter": "python",
   "pygments_lexer": "ipython3",
   "version": "3.9.12"
  },
  "toc": {
   "base_numbering": 1,
   "nav_menu": {},
   "number_sections": true,
   "sideBar": true,
   "skip_h1_title": true,
   "title_cell": "Table of Contents",
   "title_sidebar": "Contents",
   "toc_cell": false,
   "toc_position": {},
   "toc_section_display": true,
   "toc_window_display": false
  }
 },
 "nbformat": 4,
 "nbformat_minor": 5
}
