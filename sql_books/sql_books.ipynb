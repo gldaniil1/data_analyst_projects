{
 "cells": [
  {
   "cell_type": "markdown",
   "id": "da66823c",
   "metadata": {},
   "source": [
    "# Книжный червь"
   ]
  },
  {
   "cell_type": "markdown",
   "id": "b3dbfcce",
   "metadata": {},
   "source": [
    "Компания купила крупный сервис для чтения книг по подписке. В базе данных — информация о книгах, издательствах, авторах, а также пользовательские обзоры книг. Эти данные помогут сформулировать ценностное предложение для нового продукта.\n",
    "\n",
    "**Цель исследования:**\n",
    "Проанализировать базу данных крупного сервиса для чтения книг по подписке.\n",
    "\n",
    "**Ход исследования:**  \n",
    "В моем распоряжении база данных с таблицами:\n",
    "- `books` содержит данные о книгах;\n",
    "- `authors` содержит данные об авторах;\n",
    "- `publishers` cодержит данные об издательствах;\n",
    "- `ratings` cодержит данные о пользовательских оценках книг;\n",
    "- `reviews` cодержит данные о пользовательских обзорах на книги.\n",
    "\n",
    "В связи с поставленной целью должны быть решены ряд задач:\n",
    "1. Исследование таблиц.\n",
    "2. Посчитать сколько книг вышло после 1 января 2000 года.\n",
    "3. Для каждой книги посчитать количество обзоров и среднюю оценку.\n",
    "4. Определить издательство, которое выпустило наибольшее число книг толще 50 страниц — исключить из анализа брошюры.\n",
    "5. Определить автора с самой высокой средней оценкой книг — учитывать только книги с 50 и более оценками.\n",
    "6. Посчитать среднее количество обзоров от пользователей, которые поставили больше 50 оценок.  \n",
    "7. Общий вывод."
   ]
  },
  {
   "cell_type": "markdown",
   "id": "103c37ee",
   "metadata": {},
   "source": [
    "## Исследование таблиц"
   ]
  },
  {
   "cell_type": "code",
   "execution_count": 1,
   "id": "ac999560",
   "metadata": {},
   "outputs": [],
   "source": [
    "# импортируем библиотеки\n",
    "import pandas as pd\n",
    "from sqlalchemy import text, create_engine\n",
    "\n",
    "# устанавливаем параметры\n",
    "db_config = {'user': '', # имя пользователя\n",
    "'pwd': '', # пароль\n",
    "'host': '',\n",
    "'port': , # порт подключения\n",
    "'db': ''} # название базы данных\n",
    "connection_string = 'postgresql://{user}:{pwd}@{host}:{port}/{db}'.format(**db_config)\n",
    "\n",
    "# сохраняем коннектор\n",
    "engine = create_engine(connection_string, connect_args={'sslmode':'require'})\n",
    "\n",
    "# напишем функцию для выполнения SQL-запроса, используя Pandas\n",
    "def function_sql(query):\n",
    "    display(pd.io.sql.read_sql(sql=text(query), con = engine))"
   ]
  },
  {
   "cell_type": "code",
   "execution_count": 2,
   "id": "4f62de3e",
   "metadata": {},
   "outputs": [
    {
     "data": {
      "text/html": [
       "<div>\n",
       "<style scoped>\n",
       "    .dataframe tbody tr th:only-of-type {\n",
       "        vertical-align: middle;\n",
       "    }\n",
       "\n",
       "    .dataframe tbody tr th {\n",
       "        vertical-align: top;\n",
       "    }\n",
       "\n",
       "    .dataframe thead th {\n",
       "        text-align: right;\n",
       "    }\n",
       "</style>\n",
       "<table border=\"1\" class=\"dataframe\">\n",
       "  <thead>\n",
       "    <tr style=\"text-align: right;\">\n",
       "      <th></th>\n",
       "      <th>book_id</th>\n",
       "      <th>author_id</th>\n",
       "      <th>title</th>\n",
       "      <th>num_pages</th>\n",
       "      <th>publication_date</th>\n",
       "      <th>publisher_id</th>\n",
       "    </tr>\n",
       "  </thead>\n",
       "  <tbody>\n",
       "    <tr>\n",
       "      <th>0</th>\n",
       "      <td>1</td>\n",
       "      <td>546</td>\n",
       "      <td>'Salem's Lot</td>\n",
       "      <td>594</td>\n",
       "      <td>2005-11-01</td>\n",
       "      <td>93</td>\n",
       "    </tr>\n",
       "    <tr>\n",
       "      <th>1</th>\n",
       "      <td>2</td>\n",
       "      <td>465</td>\n",
       "      <td>1 000 Places to See Before You Die</td>\n",
       "      <td>992</td>\n",
       "      <td>2003-05-22</td>\n",
       "      <td>336</td>\n",
       "    </tr>\n",
       "    <tr>\n",
       "      <th>2</th>\n",
       "      <td>3</td>\n",
       "      <td>407</td>\n",
       "      <td>13 Little Blue Envelopes (Little Blue Envelope...</td>\n",
       "      <td>322</td>\n",
       "      <td>2010-12-21</td>\n",
       "      <td>135</td>\n",
       "    </tr>\n",
       "    <tr>\n",
       "      <th>3</th>\n",
       "      <td>4</td>\n",
       "      <td>82</td>\n",
       "      <td>1491: New Revelations of the Americas Before C...</td>\n",
       "      <td>541</td>\n",
       "      <td>2006-10-10</td>\n",
       "      <td>309</td>\n",
       "    </tr>\n",
       "    <tr>\n",
       "      <th>4</th>\n",
       "      <td>5</td>\n",
       "      <td>125</td>\n",
       "      <td>1776</td>\n",
       "      <td>386</td>\n",
       "      <td>2006-07-04</td>\n",
       "      <td>268</td>\n",
       "    </tr>\n",
       "  </tbody>\n",
       "</table>\n",
       "</div>"
      ],
      "text/plain": [
       "   book_id  author_id                                              title  \\\n",
       "0        1        546                                       'Salem's Lot   \n",
       "1        2        465                 1 000 Places to See Before You Die   \n",
       "2        3        407  13 Little Blue Envelopes (Little Blue Envelope...   \n",
       "3        4         82  1491: New Revelations of the Americas Before C...   \n",
       "4        5        125                                               1776   \n",
       "\n",
       "   num_pages publication_date  publisher_id  \n",
       "0        594       2005-11-01            93  \n",
       "1        992       2003-05-22           336  \n",
       "2        322       2010-12-21           135  \n",
       "3        541       2006-10-10           309  \n",
       "4        386       2006-07-04           268  "
      ]
     },
     "metadata": {},
     "output_type": "display_data"
    }
   ],
   "source": [
    "function_sql('''SELECT * FROM books LIMIT 5''')"
   ]
  },
  {
   "cell_type": "code",
   "execution_count": 3,
   "id": "c6eed42f",
   "metadata": {},
   "outputs": [
    {
     "data": {
      "text/html": [
       "<div>\n",
       "<style scoped>\n",
       "    .dataframe tbody tr th:only-of-type {\n",
       "        vertical-align: middle;\n",
       "    }\n",
       "\n",
       "    .dataframe tbody tr th {\n",
       "        vertical-align: top;\n",
       "    }\n",
       "\n",
       "    .dataframe thead th {\n",
       "        text-align: right;\n",
       "    }\n",
       "</style>\n",
       "<table border=\"1\" class=\"dataframe\">\n",
       "  <thead>\n",
       "    <tr style=\"text-align: right;\">\n",
       "      <th></th>\n",
       "      <th>author_id</th>\n",
       "      <th>author</th>\n",
       "    </tr>\n",
       "  </thead>\n",
       "  <tbody>\n",
       "    <tr>\n",
       "      <th>0</th>\n",
       "      <td>1</td>\n",
       "      <td>A.S. Byatt</td>\n",
       "    </tr>\n",
       "    <tr>\n",
       "      <th>1</th>\n",
       "      <td>2</td>\n",
       "      <td>Aesop/Laura Harris/Laura Gibbs</td>\n",
       "    </tr>\n",
       "    <tr>\n",
       "      <th>2</th>\n",
       "      <td>3</td>\n",
       "      <td>Agatha Christie</td>\n",
       "    </tr>\n",
       "    <tr>\n",
       "      <th>3</th>\n",
       "      <td>4</td>\n",
       "      <td>Alan Brennert</td>\n",
       "    </tr>\n",
       "    <tr>\n",
       "      <th>4</th>\n",
       "      <td>5</td>\n",
       "      <td>Alan Moore/David   Lloyd</td>\n",
       "    </tr>\n",
       "  </tbody>\n",
       "</table>\n",
       "</div>"
      ],
      "text/plain": [
       "   author_id                          author\n",
       "0          1                      A.S. Byatt\n",
       "1          2  Aesop/Laura Harris/Laura Gibbs\n",
       "2          3                 Agatha Christie\n",
       "3          4                   Alan Brennert\n",
       "4          5        Alan Moore/David   Lloyd"
      ]
     },
     "metadata": {},
     "output_type": "display_data"
    }
   ],
   "source": [
    "function_sql('''SELECT * FROM authors LIMIT 5''')"
   ]
  },
  {
   "cell_type": "code",
   "execution_count": 4,
   "id": "0bc41672",
   "metadata": {},
   "outputs": [
    {
     "data": {
      "text/html": [
       "<div>\n",
       "<style scoped>\n",
       "    .dataframe tbody tr th:only-of-type {\n",
       "        vertical-align: middle;\n",
       "    }\n",
       "\n",
       "    .dataframe tbody tr th {\n",
       "        vertical-align: top;\n",
       "    }\n",
       "\n",
       "    .dataframe thead th {\n",
       "        text-align: right;\n",
       "    }\n",
       "</style>\n",
       "<table border=\"1\" class=\"dataframe\">\n",
       "  <thead>\n",
       "    <tr style=\"text-align: right;\">\n",
       "      <th></th>\n",
       "      <th>publisher_id</th>\n",
       "      <th>publisher</th>\n",
       "    </tr>\n",
       "  </thead>\n",
       "  <tbody>\n",
       "    <tr>\n",
       "      <th>0</th>\n",
       "      <td>1</td>\n",
       "      <td>Ace</td>\n",
       "    </tr>\n",
       "    <tr>\n",
       "      <th>1</th>\n",
       "      <td>2</td>\n",
       "      <td>Ace Book</td>\n",
       "    </tr>\n",
       "    <tr>\n",
       "      <th>2</th>\n",
       "      <td>3</td>\n",
       "      <td>Ace Books</td>\n",
       "    </tr>\n",
       "    <tr>\n",
       "      <th>3</th>\n",
       "      <td>4</td>\n",
       "      <td>Ace Hardcover</td>\n",
       "    </tr>\n",
       "    <tr>\n",
       "      <th>4</th>\n",
       "      <td>5</td>\n",
       "      <td>Addison Wesley Publishing Company</td>\n",
       "    </tr>\n",
       "  </tbody>\n",
       "</table>\n",
       "</div>"
      ],
      "text/plain": [
       "   publisher_id                          publisher\n",
       "0             1                                Ace\n",
       "1             2                           Ace Book\n",
       "2             3                          Ace Books\n",
       "3             4                      Ace Hardcover\n",
       "4             5  Addison Wesley Publishing Company"
      ]
     },
     "metadata": {},
     "output_type": "display_data"
    }
   ],
   "source": [
    "function_sql('''SELECT * FROM publishers LIMIT 5''')"
   ]
  },
  {
   "cell_type": "code",
   "execution_count": 5,
   "id": "79811467",
   "metadata": {},
   "outputs": [
    {
     "data": {
      "text/html": [
       "<div>\n",
       "<style scoped>\n",
       "    .dataframe tbody tr th:only-of-type {\n",
       "        vertical-align: middle;\n",
       "    }\n",
       "\n",
       "    .dataframe tbody tr th {\n",
       "        vertical-align: top;\n",
       "    }\n",
       "\n",
       "    .dataframe thead th {\n",
       "        text-align: right;\n",
       "    }\n",
       "</style>\n",
       "<table border=\"1\" class=\"dataframe\">\n",
       "  <thead>\n",
       "    <tr style=\"text-align: right;\">\n",
       "      <th></th>\n",
       "      <th>rating_id</th>\n",
       "      <th>book_id</th>\n",
       "      <th>username</th>\n",
       "      <th>rating</th>\n",
       "    </tr>\n",
       "  </thead>\n",
       "  <tbody>\n",
       "    <tr>\n",
       "      <th>0</th>\n",
       "      <td>1</td>\n",
       "      <td>1</td>\n",
       "      <td>ryanfranco</td>\n",
       "      <td>4</td>\n",
       "    </tr>\n",
       "    <tr>\n",
       "      <th>1</th>\n",
       "      <td>2</td>\n",
       "      <td>1</td>\n",
       "      <td>grantpatricia</td>\n",
       "      <td>2</td>\n",
       "    </tr>\n",
       "    <tr>\n",
       "      <th>2</th>\n",
       "      <td>3</td>\n",
       "      <td>1</td>\n",
       "      <td>brandtandrea</td>\n",
       "      <td>5</td>\n",
       "    </tr>\n",
       "    <tr>\n",
       "      <th>3</th>\n",
       "      <td>4</td>\n",
       "      <td>2</td>\n",
       "      <td>lorichen</td>\n",
       "      <td>3</td>\n",
       "    </tr>\n",
       "    <tr>\n",
       "      <th>4</th>\n",
       "      <td>5</td>\n",
       "      <td>2</td>\n",
       "      <td>mariokeller</td>\n",
       "      <td>2</td>\n",
       "    </tr>\n",
       "  </tbody>\n",
       "</table>\n",
       "</div>"
      ],
      "text/plain": [
       "   rating_id  book_id       username  rating\n",
       "0          1        1     ryanfranco       4\n",
       "1          2        1  grantpatricia       2\n",
       "2          3        1   brandtandrea       5\n",
       "3          4        2       lorichen       3\n",
       "4          5        2    mariokeller       2"
      ]
     },
     "metadata": {},
     "output_type": "display_data"
    }
   ],
   "source": [
    "function_sql('''SELECT * FROM ratings LIMIT 5''')"
   ]
  },
  {
   "cell_type": "code",
   "execution_count": 6,
   "id": "c745a917",
   "metadata": {},
   "outputs": [
    {
     "data": {
      "text/html": [
       "<div>\n",
       "<style scoped>\n",
       "    .dataframe tbody tr th:only-of-type {\n",
       "        vertical-align: middle;\n",
       "    }\n",
       "\n",
       "    .dataframe tbody tr th {\n",
       "        vertical-align: top;\n",
       "    }\n",
       "\n",
       "    .dataframe thead th {\n",
       "        text-align: right;\n",
       "    }\n",
       "</style>\n",
       "<table border=\"1\" class=\"dataframe\">\n",
       "  <thead>\n",
       "    <tr style=\"text-align: right;\">\n",
       "      <th></th>\n",
       "      <th>review_id</th>\n",
       "      <th>book_id</th>\n",
       "      <th>username</th>\n",
       "      <th>text</th>\n",
       "    </tr>\n",
       "  </thead>\n",
       "  <tbody>\n",
       "    <tr>\n",
       "      <th>0</th>\n",
       "      <td>1</td>\n",
       "      <td>1</td>\n",
       "      <td>brandtandrea</td>\n",
       "      <td>Mention society tell send professor analysis. ...</td>\n",
       "    </tr>\n",
       "    <tr>\n",
       "      <th>1</th>\n",
       "      <td>2</td>\n",
       "      <td>1</td>\n",
       "      <td>ryanfranco</td>\n",
       "      <td>Foot glass pretty audience hit themselves. Amo...</td>\n",
       "    </tr>\n",
       "    <tr>\n",
       "      <th>2</th>\n",
       "      <td>3</td>\n",
       "      <td>2</td>\n",
       "      <td>lorichen</td>\n",
       "      <td>Listen treat keep worry. Miss husband tax but ...</td>\n",
       "    </tr>\n",
       "    <tr>\n",
       "      <th>3</th>\n",
       "      <td>4</td>\n",
       "      <td>3</td>\n",
       "      <td>johnsonamanda</td>\n",
       "      <td>Finally month interesting blue could nature cu...</td>\n",
       "    </tr>\n",
       "    <tr>\n",
       "      <th>4</th>\n",
       "      <td>5</td>\n",
       "      <td>3</td>\n",
       "      <td>scotttamara</td>\n",
       "      <td>Nation purpose heavy give wait song will. List...</td>\n",
       "    </tr>\n",
       "  </tbody>\n",
       "</table>\n",
       "</div>"
      ],
      "text/plain": [
       "   review_id  book_id       username  \\\n",
       "0          1        1   brandtandrea   \n",
       "1          2        1     ryanfranco   \n",
       "2          3        2       lorichen   \n",
       "3          4        3  johnsonamanda   \n",
       "4          5        3    scotttamara   \n",
       "\n",
       "                                                text  \n",
       "0  Mention society tell send professor analysis. ...  \n",
       "1  Foot glass pretty audience hit themselves. Amo...  \n",
       "2  Listen treat keep worry. Miss husband tax but ...  \n",
       "3  Finally month interesting blue could nature cu...  \n",
       "4  Nation purpose heavy give wait song will. List...  "
      ]
     },
     "metadata": {},
     "output_type": "display_data"
    }
   ],
   "source": [
    "function_sql('''SELECT * FROM reviews LIMIT 5''')"
   ]
  },
  {
   "cell_type": "markdown",
   "id": "2815dbb3",
   "metadata": {},
   "source": [
    "## Cколько книг вышло после 1 января 2000 года"
   ]
  },
  {
   "cell_type": "code",
   "execution_count": 7,
   "id": "8c53f689",
   "metadata": {},
   "outputs": [
    {
     "data": {
      "text/html": [
       "<div>\n",
       "<style scoped>\n",
       "    .dataframe tbody tr th:only-of-type {\n",
       "        vertical-align: middle;\n",
       "    }\n",
       "\n",
       "    .dataframe tbody tr th {\n",
       "        vertical-align: top;\n",
       "    }\n",
       "\n",
       "    .dataframe thead th {\n",
       "        text-align: right;\n",
       "    }\n",
       "</style>\n",
       "<table border=\"1\" class=\"dataframe\">\n",
       "  <thead>\n",
       "    <tr style=\"text-align: right;\">\n",
       "      <th></th>\n",
       "      <th>count</th>\n",
       "    </tr>\n",
       "  </thead>\n",
       "  <tbody>\n",
       "    <tr>\n",
       "      <th>0</th>\n",
       "      <td>819</td>\n",
       "    </tr>\n",
       "  </tbody>\n",
       "</table>\n",
       "</div>"
      ],
      "text/plain": [
       "   count\n",
       "0    819"
      ]
     },
     "metadata": {},
     "output_type": "display_data"
    }
   ],
   "source": [
    "function_sql('''\n",
    "    SELECT COUNT(book_id)\n",
    "    FROM books\n",
    "    WHERE publication_date > '2000-01-01'\n",
    "    ''')"
   ]
  },
  {
   "cell_type": "code",
   "execution_count": 8,
   "id": "46f1ff6d",
   "metadata": {},
   "outputs": [
    {
     "data": {
      "text/html": [
       "<div>\n",
       "<style scoped>\n",
       "    .dataframe tbody tr th:only-of-type {\n",
       "        vertical-align: middle;\n",
       "    }\n",
       "\n",
       "    .dataframe tbody tr th {\n",
       "        vertical-align: top;\n",
       "    }\n",
       "\n",
       "    .dataframe thead th {\n",
       "        text-align: right;\n",
       "    }\n",
       "</style>\n",
       "<table border=\"1\" class=\"dataframe\">\n",
       "  <thead>\n",
       "    <tr style=\"text-align: right;\">\n",
       "      <th></th>\n",
       "      <th>count</th>\n",
       "    </tr>\n",
       "  </thead>\n",
       "  <tbody>\n",
       "    <tr>\n",
       "      <th>0</th>\n",
       "      <td>821</td>\n",
       "    </tr>\n",
       "  </tbody>\n",
       "</table>\n",
       "</div>"
      ],
      "text/plain": [
       "   count\n",
       "0    821"
      ]
     },
     "metadata": {},
     "output_type": "display_data"
    }
   ],
   "source": [
    "function_sql('''\n",
    "    SELECT COUNT(book_id)\n",
    "    FROM books\n",
    "    WHERE          publication_date >= '2000-01-01'\n",
    "    ''')"
   ]
  },
  {
   "cell_type": "markdown",
   "id": "a6da64a1",
   "metadata": {},
   "source": [
    "**Вывод:** Отвечая на вопрос сколько книг вышло после 1 января 2000 года, можно сказать, что 1 января не включается, а значит вышло 819 книг.  \n",
    "Однако довольно нетипично исключать 1 января и возможно стоит уточнить задачу, с 1 января 2000 года вышла 821 книга."
   ]
  },
  {
   "cell_type": "markdown",
   "id": "fbdf8204",
   "metadata": {},
   "source": [
    "## Количество обзоров и средняя оценка по каждой книге"
   ]
  },
  {
   "cell_type": "code",
   "execution_count": 9,
   "id": "9be3537a",
   "metadata": {},
   "outputs": [
    {
     "data": {
      "text/html": [
       "<div>\n",
       "<style scoped>\n",
       "    .dataframe tbody tr th:only-of-type {\n",
       "        vertical-align: middle;\n",
       "    }\n",
       "\n",
       "    .dataframe tbody tr th {\n",
       "        vertical-align: top;\n",
       "    }\n",
       "\n",
       "    .dataframe thead th {\n",
       "        text-align: right;\n",
       "    }\n",
       "</style>\n",
       "<table border=\"1\" class=\"dataframe\">\n",
       "  <thead>\n",
       "    <tr style=\"text-align: right;\">\n",
       "      <th></th>\n",
       "      <th>title</th>\n",
       "      <th>count</th>\n",
       "    </tr>\n",
       "  </thead>\n",
       "  <tbody>\n",
       "    <tr>\n",
       "      <th>0</th>\n",
       "      <td>Memoirs of a Geisha</td>\n",
       "      <td>2</td>\n",
       "    </tr>\n",
       "  </tbody>\n",
       "</table>\n",
       "</div>"
      ],
      "text/plain": [
       "                 title  count\n",
       "0  Memoirs of a Geisha      2"
      ]
     },
     "metadata": {},
     "output_type": "display_data"
    }
   ],
   "source": [
    "# в процессе исследования также обнаружены разные книги (судя по идентификатору), но с одинаковым названием\n",
    "function_sql('''\n",
    "    SELECT title,\n",
    "           COUNT(DISTINCT book_id)\n",
    "    FROM books\n",
    "    GROUP BY 1\n",
    "    HAVING COUNT(DISTINCT book_id) > 1\n",
    "    ORDER BY 2 DESC\n",
    "    ''') "
   ]
  },
  {
   "cell_type": "code",
   "execution_count": 10,
   "id": "559f8196",
   "metadata": {},
   "outputs": [
    {
     "data": {
      "text/html": [
       "<div>\n",
       "<style scoped>\n",
       "    .dataframe tbody tr th:only-of-type {\n",
       "        vertical-align: middle;\n",
       "    }\n",
       "\n",
       "    .dataframe tbody tr th {\n",
       "        vertical-align: top;\n",
       "    }\n",
       "\n",
       "    .dataframe thead th {\n",
       "        text-align: right;\n",
       "    }\n",
       "</style>\n",
       "<table border=\"1\" class=\"dataframe\">\n",
       "  <thead>\n",
       "    <tr style=\"text-align: right;\">\n",
       "      <th></th>\n",
       "      <th>book_id</th>\n",
       "      <th>title</th>\n",
       "      <th>reviews_count</th>\n",
       "      <th>avg_rating</th>\n",
       "    </tr>\n",
       "  </thead>\n",
       "  <tbody>\n",
       "    <tr>\n",
       "      <th>0</th>\n",
       "      <td>948</td>\n",
       "      <td>Twilight (Twilight  #1)</td>\n",
       "      <td>7</td>\n",
       "      <td>3.66</td>\n",
       "    </tr>\n",
       "    <tr>\n",
       "      <th>1</th>\n",
       "      <td>656</td>\n",
       "      <td>The Book Thief</td>\n",
       "      <td>6</td>\n",
       "      <td>4.26</td>\n",
       "    </tr>\n",
       "    <tr>\n",
       "      <th>2</th>\n",
       "      <td>497</td>\n",
       "      <td>Outlander (Outlander  #1)</td>\n",
       "      <td>6</td>\n",
       "      <td>4.13</td>\n",
       "    </tr>\n",
       "    <tr>\n",
       "      <th>3</th>\n",
       "      <td>963</td>\n",
       "      <td>Water for Elephants</td>\n",
       "      <td>6</td>\n",
       "      <td>3.98</td>\n",
       "    </tr>\n",
       "    <tr>\n",
       "      <th>4</th>\n",
       "      <td>696</td>\n",
       "      <td>The Da Vinci Code (Robert Langdon  #2)</td>\n",
       "      <td>6</td>\n",
       "      <td>3.83</td>\n",
       "    </tr>\n",
       "    <tr>\n",
       "      <th>...</th>\n",
       "      <td>...</td>\n",
       "      <td>...</td>\n",
       "      <td>...</td>\n",
       "      <td>...</td>\n",
       "    </tr>\n",
       "    <tr>\n",
       "      <th>995</th>\n",
       "      <td>672</td>\n",
       "      <td>The Cat in the Hat and Other Dr. Seuss Favorites</td>\n",
       "      <td>0</td>\n",
       "      <td>5.00</td>\n",
       "    </tr>\n",
       "    <tr>\n",
       "      <th>996</th>\n",
       "      <td>83</td>\n",
       "      <td>Anne Rice's The Vampire Lestat: A Graphic Novel</td>\n",
       "      <td>0</td>\n",
       "      <td>3.67</td>\n",
       "    </tr>\n",
       "    <tr>\n",
       "      <th>997</th>\n",
       "      <td>221</td>\n",
       "      <td>Essential Tales and Poems</td>\n",
       "      <td>0</td>\n",
       "      <td>4.00</td>\n",
       "    </tr>\n",
       "    <tr>\n",
       "      <th>998</th>\n",
       "      <td>387</td>\n",
       "      <td>Leonardo's Notebooks</td>\n",
       "      <td>0</td>\n",
       "      <td>4.00</td>\n",
       "    </tr>\n",
       "    <tr>\n",
       "      <th>999</th>\n",
       "      <td>808</td>\n",
       "      <td>The Natural Way to Draw</td>\n",
       "      <td>0</td>\n",
       "      <td>3.00</td>\n",
       "    </tr>\n",
       "  </tbody>\n",
       "</table>\n",
       "<p>1000 rows × 4 columns</p>\n",
       "</div>"
      ],
      "text/plain": [
       "     book_id                                             title  reviews_count  \\\n",
       "0        948                           Twilight (Twilight  #1)              7   \n",
       "1        656                                    The Book Thief              6   \n",
       "2        497                         Outlander (Outlander  #1)              6   \n",
       "3        963                               Water for Elephants              6   \n",
       "4        696            The Da Vinci Code (Robert Langdon  #2)              6   \n",
       "..       ...                                               ...            ...   \n",
       "995      672  The Cat in the Hat and Other Dr. Seuss Favorites              0   \n",
       "996       83   Anne Rice's The Vampire Lestat: A Graphic Novel              0   \n",
       "997      221                         Essential Tales and Poems              0   \n",
       "998      387                              Leonardo's Notebooks              0   \n",
       "999      808                           The Natural Way to Draw              0   \n",
       "\n",
       "     avg_rating  \n",
       "0          3.66  \n",
       "1          4.26  \n",
       "2          4.13  \n",
       "3          3.98  \n",
       "4          3.83  \n",
       "..          ...  \n",
       "995        5.00  \n",
       "996        3.67  \n",
       "997        4.00  \n",
       "998        4.00  \n",
       "999        3.00  \n",
       "\n",
       "[1000 rows x 4 columns]"
      ]
     },
     "metadata": {},
     "output_type": "display_data"
    }
   ],
   "source": [
    "function_sql('''\n",
    "    WITH ra AS\n",
    "        (SELECT book_id,\n",
    "                AVG(rating) AS avg_rating\n",
    "         FROM ratings\n",
    "         GROUP BY 1\n",
    "         ORDER BY 2 DESC),\n",
    "    re as\n",
    "        (SELECT book_id,\n",
    "                COUNT(review_id) AS reviews_count\n",
    "         FROM reviews\n",
    "         GROUP BY 1\n",
    "         ORDER BY 2 DESC)\n",
    "         \n",
    "    SELECT b.book_id,\n",
    "           b.title,\n",
    "           CASE WHEN re.reviews_count IS NULL THEN 0 ELSE re.reviews_count END,\n",
    "           ROUND(ra.avg_rating, 2) as avg_rating\n",
    "    FROM books as b\n",
    "    FULL OUTER JOIN ra ON b.book_id=ra.book_id\n",
    "    FULL OUTER JOIN re ON b.book_id=re.book_id\n",
    "    ''') "
   ]
  },
  {
   "cell_type": "markdown",
   "id": "ec359357",
   "metadata": {},
   "source": [
    "**Вывод:** Сформирована таблица с количеством обзоров и средней оценкой по каждой книге. Больше всего обзоров (7) у книги 'Twilight (Twilight #1)', рейтинг не так высок - 3,66. Среди книг с 6 обзорами самый высокий рейтинг (4,26) получила 'The Book Thief'. "
   ]
  },
  {
   "cell_type": "markdown",
   "id": "318cd9ac",
   "metadata": {},
   "source": [
    "## Издательство, которое выпустило наибольшее число книг толще 50 страниц"
   ]
  },
  {
   "cell_type": "code",
   "execution_count": 11,
   "id": "b865c8fa",
   "metadata": {},
   "outputs": [
    {
     "data": {
      "text/html": [
       "<div>\n",
       "<style scoped>\n",
       "    .dataframe tbody tr th:only-of-type {\n",
       "        vertical-align: middle;\n",
       "    }\n",
       "\n",
       "    .dataframe tbody tr th {\n",
       "        vertical-align: top;\n",
       "    }\n",
       "\n",
       "    .dataframe thead th {\n",
       "        text-align: right;\n",
       "    }\n",
       "</style>\n",
       "<table border=\"1\" class=\"dataframe\">\n",
       "  <thead>\n",
       "    <tr style=\"text-align: right;\">\n",
       "      <th></th>\n",
       "      <th>publisher</th>\n",
       "      <th>books_count</th>\n",
       "    </tr>\n",
       "  </thead>\n",
       "  <tbody>\n",
       "    <tr>\n",
       "      <th>0</th>\n",
       "      <td>Penguin Books</td>\n",
       "      <td>42</td>\n",
       "    </tr>\n",
       "  </tbody>\n",
       "</table>\n",
       "</div>"
      ],
      "text/plain": [
       "       publisher  books_count\n",
       "0  Penguin Books           42"
      ]
     },
     "metadata": {},
     "output_type": "display_data"
    }
   ],
   "source": [
    "function_sql('''\n",
    "    SELECT p.publisher,\n",
    "           COUNT(b.book_id) AS books_count\n",
    "    FROM books as b\n",
    "    JOIN publishers as p ON b.publisher_id=p.publisher_id\n",
    "    WHERE num_pages > 50\n",
    "    GROUP BY 1\n",
    "    ORDER BY 2 DESC\n",
    "    LIMIT 1\n",
    "    ''')"
   ]
  },
  {
   "cell_type": "markdown",
   "id": "4a0d04f7",
   "metadata": {},
   "source": [
    "**Вывод:** Больше всего книг выпустило издательство `Penguin Books.`  \n",
    "Стоит отметить, что из анализа исключены брошюры, т.е. книги толщиной 50 страниц и менее."
   ]
  },
  {
   "cell_type": "markdown",
   "id": "d29f381f",
   "metadata": {},
   "source": [
    "## Автор с самой высокой средней оценкой книг"
   ]
  },
  {
   "cell_type": "code",
   "execution_count": 12,
   "id": "2672ee97",
   "metadata": {},
   "outputs": [
    {
     "data": {
      "text/html": [
       "<div>\n",
       "<style scoped>\n",
       "    .dataframe tbody tr th:only-of-type {\n",
       "        vertical-align: middle;\n",
       "    }\n",
       "\n",
       "    .dataframe tbody tr th {\n",
       "        vertical-align: top;\n",
       "    }\n",
       "\n",
       "    .dataframe thead th {\n",
       "        text-align: right;\n",
       "    }\n",
       "</style>\n",
       "<table border=\"1\" class=\"dataframe\">\n",
       "  <thead>\n",
       "    <tr style=\"text-align: right;\">\n",
       "      <th></th>\n",
       "      <th>author</th>\n",
       "      <th>avg_rating</th>\n",
       "    </tr>\n",
       "  </thead>\n",
       "  <tbody>\n",
       "    <tr>\n",
       "      <th>0</th>\n",
       "      <td>J.K. Rowling/Mary GrandPré</td>\n",
       "      <td>4.29</td>\n",
       "    </tr>\n",
       "  </tbody>\n",
       "</table>\n",
       "</div>"
      ],
      "text/plain": [
       "                       author  avg_rating\n",
       "0  J.K. Rowling/Mary GrandPré        4.29"
      ]
     },
     "metadata": {},
     "output_type": "display_data"
    }
   ],
   "source": [
    "function_sql('''\n",
    "    WITH x AS\n",
    "        (SELECT b.book_id,\n",
    "                COUNT(ra.rating_id)\n",
    "        FROM books as b\n",
    "        JOIN ratings as ra ON b.book_id=ra.book_id\n",
    "        GROUP BY 1\n",
    "        HAVING COUNT(ra.rating_id) >= 50)\n",
    "        \n",
    "    SELECT a.author,\n",
    "           ROUND(AVG(ra.rating),2) as avg_rating\n",
    "    FROM books as b\n",
    "    JOIN ratings as ra ON b.book_id=ra.book_id\n",
    "    JOIN author as a ON a.author_id=b.author_id\n",
    "    WHERE b.book_id IN (SELECT book_id\n",
    "                        FROM x)\n",
    "    GROUP BY 1\n",
    "    ORDER BY 2 DESC \n",
    "    LIMIT 1\n",
    "    ''')"
   ]
  },
  {
   "cell_type": "markdown",
   "id": "f6a0b39c",
   "metadata": {},
   "source": [
    "**Вывод:** Автор с самой высокой средней оценкой книг - `J.K. Rowling/Mary GrandPré`. При анализе были учтены только книги с 50 и более оценками."
   ]
  },
  {
   "cell_type": "markdown",
   "id": "8e6879d8",
   "metadata": {},
   "source": [
    "## Cреднее количество обзоров от пользователей, которые поставили больше 50 оценок"
   ]
  },
  {
   "cell_type": "code",
   "execution_count": 13,
   "id": "aa86fd53",
   "metadata": {},
   "outputs": [
    {
     "data": {
      "text/html": [
       "<div>\n",
       "<style scoped>\n",
       "    .dataframe tbody tr th:only-of-type {\n",
       "        vertical-align: middle;\n",
       "    }\n",
       "\n",
       "    .dataframe tbody tr th {\n",
       "        vertical-align: top;\n",
       "    }\n",
       "\n",
       "    .dataframe thead th {\n",
       "        text-align: right;\n",
       "    }\n",
       "</style>\n",
       "<table border=\"1\" class=\"dataframe\">\n",
       "  <thead>\n",
       "    <tr style=\"text-align: right;\">\n",
       "      <th></th>\n",
       "      <th>round</th>\n",
       "    </tr>\n",
       "  </thead>\n",
       "  <tbody>\n",
       "    <tr>\n",
       "      <th>0</th>\n",
       "      <td>24.0</td>\n",
       "    </tr>\n",
       "  </tbody>\n",
       "</table>\n",
       "</div>"
      ],
      "text/plain": [
       "   round\n",
       "0   24.0"
      ]
     },
     "metadata": {},
     "output_type": "display_data"
    }
   ],
   "source": [
    "function_sql('''\n",
    "    WITH x AS\n",
    "        (SELECT username,\n",
    "              COUNT(rating_id)\n",
    "        FROM ratings\n",
    "        GROUP BY 1\n",
    "        HAVING COUNT(rating_id) > 50),\n",
    "        \n",
    "    rc AS\n",
    "        (SELECT username,\n",
    "           COUNT(review_id) review_count\n",
    "        FROM reviews\n",
    "        WHERE username IN (SELECT username\n",
    "                           FROM x)\n",
    "        GROUP BY 1)\n",
    "    \n",
    "    SELECT ROUND(AVG(review_count))\n",
    "    FROM rc\n",
    "    ''')"
   ]
  },
  {
   "cell_type": "markdown",
   "id": "b370a271",
   "metadata": {},
   "source": [
    "**Вывод:** Пользователь, который поставил больше 50 оценок в среднем делает 24 обзора на книги."
   ]
  },
  {
   "cell_type": "markdown",
   "id": "e3cad370",
   "metadata": {},
   "source": [
    "## Общий вывод"
   ]
  },
  {
   "cell_type": "markdown",
   "id": "ade98e68",
   "metadata": {},
   "source": [
    "В результате выполненного исследования мы проанализировали базу данных крупного сервиса для чтения книг по подписке и ответили на ряд вопросов.\n",
    "\n",
    "1. Начиная с 1 января 2000 года вышла 821 книга.\n",
    "2. Сформирована таблица с количеством обзоров и средней оценкой по каждой книге. Больше всего обзоров (7) у книги `Twilight (Twilight #1)`, рейтинг не так высок - 3,66. Среди книг с 6 обзорами самый высокий рейтинг (4,26) получила `The Book Thief`. \n",
    "3. Больше всего книг выпустило издательство `Penguin Books`. Стоит отметить, что из анализа исключены брошюры, т.е. книги толщиной 50 страниц и менее.\n",
    "4. Автор с самой высокой средней оценкой книг - `J.K. Rowling/Mary GrandPré`. При анализе были учтены только книги с 50 и более оценками.\n",
    "5. Пользователь, который поставил больше 50 оценок в среднем делает `24 обзора` на книги.\n"
   ]
  },
  {
   "cell_type": "code",
   "execution_count": null,
   "id": "50e77e16",
   "metadata": {},
   "outputs": [],
   "source": []
  }
 ],
 "metadata": {
  "ExecuteTimeLog": [
   {
    "duration": 9099,
    "start_time": "2023-04-18T21:59:37.749Z"
   },
   {
    "duration": 48,
    "start_time": "2023-04-18T21:59:46.850Z"
   },
   {
    "duration": 10,
    "start_time": "2023-04-18T21:59:46.900Z"
   },
   {
    "duration": 13,
    "start_time": "2023-04-18T21:59:46.912Z"
   },
   {
    "duration": 19,
    "start_time": "2023-04-18T21:59:46.926Z"
   },
   {
    "duration": 11,
    "start_time": "2023-04-18T21:59:46.946Z"
   },
   {
    "duration": 23,
    "start_time": "2023-04-18T21:59:46.958Z"
   },
   {
    "duration": 23,
    "start_time": "2023-04-18T21:59:46.983Z"
   },
   {
    "duration": 23,
    "start_time": "2023-04-18T21:59:47.008Z"
   },
   {
    "duration": 21,
    "start_time": "2023-04-18T21:59:47.033Z"
   },
   {
    "duration": 15,
    "start_time": "2023-04-18T21:59:47.056Z"
   },
   {
    "duration": 27,
    "start_time": "2023-04-18T21:59:47.073Z"
   },
   {
    "duration": 15,
    "start_time": "2023-04-18T22:00:01.830Z"
   },
   {
    "duration": 26,
    "start_time": "2023-04-18T22:00:15.887Z"
   },
   {
    "duration": 5400,
    "start_time": "2023-04-19T16:11:39.028Z"
   },
   {
    "duration": 91,
    "start_time": "2023-04-19T16:11:44.430Z"
   },
   {
    "duration": 14,
    "start_time": "2023-04-19T16:11:44.523Z"
   },
   {
    "duration": 14,
    "start_time": "2023-04-19T16:11:44.540Z"
   },
   {
    "duration": 14,
    "start_time": "2023-04-19T16:11:44.556Z"
   },
   {
    "duration": 22,
    "start_time": "2023-04-19T16:11:44.572Z"
   },
   {
    "duration": 11,
    "start_time": "2023-04-19T16:11:44.595Z"
   },
   {
    "duration": 11,
    "start_time": "2023-04-19T16:11:44.608Z"
   },
   {
    "duration": 24,
    "start_time": "2023-04-19T16:11:45.804Z"
   },
   {
    "duration": 29,
    "start_time": "2023-04-19T16:12:00.324Z"
   },
   {
    "duration": 32,
    "start_time": "2023-04-19T16:12:26.844Z"
   },
   {
    "duration": 29,
    "start_time": "2023-04-19T16:12:38.197Z"
   },
   {
    "duration": 1153,
    "start_time": "2023-04-19T16:12:49.004Z"
   },
   {
    "duration": 30,
    "start_time": "2023-04-19T16:12:58.211Z"
   },
   {
    "duration": 27,
    "start_time": "2023-04-19T16:13:03.939Z"
   },
   {
    "duration": 18,
    "start_time": "2023-04-19T16:14:51.637Z"
   },
   {
    "duration": 88,
    "start_time": "2023-04-19T16:15:24.797Z"
   },
   {
    "duration": 27,
    "start_time": "2023-04-19T16:15:41.788Z"
   },
   {
    "duration": 12,
    "start_time": "2023-04-19T16:15:49.504Z"
   },
   {
    "duration": 159,
    "start_time": "2023-04-19T16:16:42.341Z"
   },
   {
    "duration": 13,
    "start_time": "2023-04-19T16:16:56.491Z"
   },
   {
    "duration": 13,
    "start_time": "2023-04-19T16:17:03.998Z"
   },
   {
    "duration": 69,
    "start_time": "2023-04-19T16:17:36.310Z"
   },
   {
    "duration": 16,
    "start_time": "2023-04-19T16:17:46.648Z"
   },
   {
    "duration": 14,
    "start_time": "2023-04-19T16:18:01.462Z"
   },
   {
    "duration": 17,
    "start_time": "2023-04-19T16:20:51.789Z"
   },
   {
    "duration": 119,
    "start_time": "2023-04-19T16:21:10.096Z"
   },
   {
    "duration": 72,
    "start_time": "2023-04-19T16:21:12.201Z"
   },
   {
    "duration": 24,
    "start_time": "2023-04-19T16:21:20.737Z"
   },
   {
    "duration": 19,
    "start_time": "2023-04-19T16:22:31.009Z"
   },
   {
    "duration": 22,
    "start_time": "2023-04-19T16:23:45.761Z"
   },
   {
    "duration": 85,
    "start_time": "2023-04-19T16:24:47.887Z"
   },
   {
    "duration": 82,
    "start_time": "2023-04-19T16:25:00.939Z"
   },
   {
    "duration": 20,
    "start_time": "2023-04-19T16:26:14.340Z"
   },
   {
    "duration": 14,
    "start_time": "2023-04-19T16:26:26.731Z"
   },
   {
    "duration": 78,
    "start_time": "2023-04-19T16:26:47.346Z"
   },
   {
    "duration": 90,
    "start_time": "2023-04-19T16:26:49.779Z"
   },
   {
    "duration": 3450,
    "start_time": "2023-04-19T16:27:00.331Z"
   },
   {
    "duration": 83,
    "start_time": "2023-04-19T16:29:43.948Z"
   },
   {
    "duration": 92,
    "start_time": "2023-04-19T16:29:50.106Z"
   },
   {
    "duration": 27,
    "start_time": "2023-04-19T16:29:52.550Z"
   },
   {
    "duration": 30,
    "start_time": "2023-04-19T16:29:57.035Z"
   },
   {
    "duration": 20,
    "start_time": "2023-04-19T16:32:18.094Z"
   },
   {
    "duration": 19,
    "start_time": "2023-04-19T16:32:23.887Z"
   },
   {
    "duration": 85,
    "start_time": "2023-04-19T16:33:02.003Z"
   },
   {
    "duration": 96,
    "start_time": "2023-04-19T16:35:50.888Z"
   },
   {
    "duration": 26,
    "start_time": "2023-04-19T16:36:05.505Z"
   },
   {
    "duration": 77,
    "start_time": "2023-04-19T16:36:46.232Z"
   },
   {
    "duration": 87,
    "start_time": "2023-04-19T16:36:50.529Z"
   },
   {
    "duration": 12,
    "start_time": "2023-04-19T16:36:57.783Z"
   },
   {
    "duration": 27,
    "start_time": "2023-04-19T16:37:19.857Z"
   },
   {
    "duration": 27,
    "start_time": "2023-04-19T16:37:45.182Z"
   },
   {
    "duration": 37,
    "start_time": "2023-04-19T16:40:52.616Z"
   },
   {
    "duration": 13,
    "start_time": "2023-04-19T16:41:28.442Z"
   },
   {
    "duration": 41,
    "start_time": "2023-04-19T16:41:35.217Z"
   },
   {
    "duration": 31,
    "start_time": "2023-04-19T16:41:48.131Z"
   },
   {
    "duration": 17,
    "start_time": "2023-04-19T16:49:48.711Z"
   },
   {
    "duration": 33,
    "start_time": "2023-04-19T16:50:17.983Z"
   },
   {
    "duration": 77,
    "start_time": "2023-04-19T16:50:23.655Z"
   },
   {
    "duration": 17,
    "start_time": "2023-04-19T16:50:34.877Z"
   },
   {
    "duration": 16,
    "start_time": "2023-04-19T16:51:04.823Z"
   },
   {
    "duration": 28,
    "start_time": "2023-04-19T16:51:09.887Z"
   },
   {
    "duration": 656,
    "start_time": "2023-04-19T16:51:21.984Z"
   },
   {
    "duration": 15,
    "start_time": "2023-04-19T16:51:31.648Z"
   },
   {
    "duration": 79,
    "start_time": "2023-04-19T16:52:08.536Z"
   },
   {
    "duration": 15,
    "start_time": "2023-04-19T16:52:11.608Z"
   },
   {
    "duration": 92,
    "start_time": "2023-04-19T16:52:50.418Z"
   },
   {
    "duration": 13,
    "start_time": "2023-04-19T16:52:58.469Z"
   },
   {
    "duration": 15,
    "start_time": "2023-04-19T16:53:28.076Z"
   },
   {
    "duration": 35,
    "start_time": "2023-04-19T16:54:34.589Z"
   },
   {
    "duration": 3228,
    "start_time": "2023-04-19T16:54:42.574Z"
   },
   {
    "duration": 32,
    "start_time": "2023-04-19T16:54:54.554Z"
   },
   {
    "duration": 25,
    "start_time": "2023-04-19T16:55:38.425Z"
   },
   {
    "duration": 13,
    "start_time": "2023-04-19T16:58:00.209Z"
   },
   {
    "duration": 23,
    "start_time": "2023-04-19T16:58:03.576Z"
   },
   {
    "duration": 41,
    "start_time": "2023-04-19T16:59:28.482Z"
   },
   {
    "duration": 82,
    "start_time": "2023-04-19T16:59:48.443Z"
   },
   {
    "duration": 35,
    "start_time": "2023-04-19T17:00:15.309Z"
   },
   {
    "duration": 262,
    "start_time": "2023-04-19T17:00:42.717Z"
   },
   {
    "duration": 35,
    "start_time": "2023-04-19T17:02:11.410Z"
   },
   {
    "duration": 39,
    "start_time": "2023-04-19T17:02:35.686Z"
   },
   {
    "duration": 79,
    "start_time": "2023-04-19T17:02:55.533Z"
   },
   {
    "duration": 28,
    "start_time": "2023-04-19T17:03:03.446Z"
   },
   {
    "duration": 26,
    "start_time": "2023-04-19T17:03:08.117Z"
   },
   {
    "duration": 40,
    "start_time": "2023-04-19T17:03:20.798Z"
   },
   {
    "duration": 32,
    "start_time": "2023-04-19T17:03:27.210Z"
   },
   {
    "duration": 40,
    "start_time": "2023-04-19T17:04:14.295Z"
   },
   {
    "duration": 16,
    "start_time": "2023-04-19T17:07:39.424Z"
   },
   {
    "duration": 15,
    "start_time": "2023-04-19T17:09:25.386Z"
   },
   {
    "duration": 25,
    "start_time": "2023-04-19T17:12:59.722Z"
   },
   {
    "duration": 25,
    "start_time": "2023-04-19T17:13:52.883Z"
   },
   {
    "duration": 24,
    "start_time": "2023-04-19T17:15:17.012Z"
   },
   {
    "duration": 24,
    "start_time": "2023-04-19T17:15:29.378Z"
   },
   {
    "duration": 24,
    "start_time": "2023-04-19T17:15:36.715Z"
   },
   {
    "duration": 23,
    "start_time": "2023-04-19T17:15:44.146Z"
   },
   {
    "duration": 26,
    "start_time": "2023-04-19T17:15:57.748Z"
   },
   {
    "duration": 1601,
    "start_time": "2023-04-19T17:16:41.333Z"
   },
   {
    "duration": 48,
    "start_time": "2023-04-19T17:17:02.616Z"
   },
   {
    "duration": 17,
    "start_time": "2023-04-19T17:17:15.924Z"
   },
   {
    "duration": 23,
    "start_time": "2023-04-19T17:17:39.629Z"
   },
   {
    "duration": 25,
    "start_time": "2023-04-19T17:19:56.038Z"
   },
   {
    "duration": 24,
    "start_time": "2023-04-19T17:26:54.841Z"
   },
   {
    "duration": 71,
    "start_time": "2023-04-19T17:27:02.298Z"
   },
   {
    "duration": 22,
    "start_time": "2023-04-19T17:27:05.730Z"
   },
   {
    "duration": 24,
    "start_time": "2023-04-19T17:27:38.977Z"
   },
   {
    "duration": 23,
    "start_time": "2023-04-19T17:29:16.283Z"
   },
   {
    "duration": 2254,
    "start_time": "2023-04-19T17:29:25.714Z"
   },
   {
    "duration": 24,
    "start_time": "2023-04-19T17:29:43.619Z"
   },
   {
    "duration": 69,
    "start_time": "2023-04-19T17:30:26.939Z"
   },
   {
    "duration": 33,
    "start_time": "2023-04-19T17:31:11.507Z"
   },
   {
    "duration": 24,
    "start_time": "2023-04-19T17:31:19.037Z"
   },
   {
    "duration": 75,
    "start_time": "2023-04-19T17:31:56.411Z"
   },
   {
    "duration": 22,
    "start_time": "2023-04-19T17:32:07.645Z"
   },
   {
    "duration": 5277,
    "start_time": "2023-04-19T17:32:25.197Z"
   },
   {
    "duration": 63,
    "start_time": "2023-04-19T17:32:30.476Z"
   },
   {
    "duration": 12,
    "start_time": "2023-04-19T17:32:30.541Z"
   },
   {
    "duration": 34,
    "start_time": "2023-04-19T17:32:30.556Z"
   },
   {
    "duration": 29,
    "start_time": "2023-04-19T17:32:30.592Z"
   },
   {
    "duration": 32,
    "start_time": "2023-04-19T17:32:30.623Z"
   },
   {
    "duration": 30,
    "start_time": "2023-04-19T17:32:30.657Z"
   },
   {
    "duration": 26,
    "start_time": "2023-04-19T17:32:30.689Z"
   },
   {
    "duration": 137,
    "start_time": "2023-04-19T17:32:30.717Z"
   },
   {
    "duration": 63,
    "start_time": "2023-04-19T17:32:30.856Z"
   },
   {
    "duration": 63,
    "start_time": "2023-04-19T17:32:30.921Z"
   },
   {
    "duration": 37,
    "start_time": "2023-04-19T17:32:30.985Z"
   },
   {
    "duration": 31,
    "start_time": "2023-04-19T17:32:31.024Z"
   },
   {
    "duration": 35,
    "start_time": "2023-04-19T17:32:31.058Z"
   }
  ],
  "kernelspec": {
   "display_name": "Python 3 (ipykernel)",
   "language": "python",
   "name": "python3"
  },
  "language_info": {
   "codemirror_mode": {
    "name": "ipython",
    "version": 3
   },
   "file_extension": ".py",
   "mimetype": "text/x-python",
   "name": "python",
   "nbconvert_exporter": "python",
   "pygments_lexer": "ipython3",
   "version": "3.9.12"
  },
  "toc": {
   "base_numbering": 1,
   "nav_menu": {},
   "number_sections": true,
   "sideBar": true,
   "skip_h1_title": true,
   "title_cell": "Table of Contents",
   "title_sidebar": "Contents",
   "toc_cell": false,
   "toc_position": {},
   "toc_section_display": true,
   "toc_window_display": false
  }
 },
 "nbformat": 4,
 "nbformat_minor": 5
}
